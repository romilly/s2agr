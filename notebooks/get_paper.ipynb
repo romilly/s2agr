{
 "cells": [
  {
   "cell_type": "code",
   "execution_count": 2,
   "metadata": {
    "collapsed": true
   },
   "outputs": [],
   "source": [
    "import json\n",
    "from s2agr.requester import ThrottledRequester\n",
    "from s2agr.researcher import WebResearcher"
   ]
  },
  {
   "cell_type": "code",
   "execution_count": 3,
   "outputs": [],
   "source": [
    "researcher = WebResearcher(ThrottledRequester())"
   ],
   "metadata": {
    "collapsed": false
   }
  },
  {
   "cell_type": "code",
   "execution_count": 4,
   "outputs": [],
   "source": [
    "paper = researcher.get_paper('55677a9eb759dac6220d88cee2f1718f02a181be')"
   ],
   "metadata": {
    "collapsed": false
   }
  },
  {
   "cell_type": "code",
   "execution_count": 5,
   "outputs": [],
   "source": [
    "with open('checking.json','w') as jf:\n",
    "    jf.write(json.dumps(paper.jason_dictionary))"
   ],
   "metadata": {
    "collapsed": false
   }
  },
  {
   "cell_type": "code",
   "execution_count": null,
   "outputs": [],
   "source": [
    "researcher = WebResearcher(ThrottledRequester())"
   ],
   "metadata": {
    "collapsed": false
   }
  },
  {
   "cell_type": "code",
   "execution_count": 6,
   "outputs": [],
   "source": [
    "citations = researcher.get_citations_for('55677a9eb759dac6220d88cee2f1718f02a181be')"
   ],
   "metadata": {
    "collapsed": false
   }
  },
  {
   "cell_type": "code",
   "execution_count": 11,
   "outputs": [],
   "source": [
    "citations = list(citations)"
   ],
   "metadata": {
    "collapsed": false
   }
  },
  {
   "cell_type": "code",
   "execution_count": 16,
   "outputs": [],
   "source": [
    "titles = {}\n",
    "for citation in citations:\n",
    "    titles[citation.title] = citation.citing_id"
   ],
   "metadata": {
    "collapsed": false
   }
  },
  {
   "cell_type": "code",
   "execution_count": 17,
   "outputs": [
    {
     "ename": "KeyError",
     "evalue": "'RHM 2(1).indb'",
     "output_type": "error",
     "traceback": [
      "\u001B[0;31m---------------------------------------------------------------------------\u001B[0m",
      "\u001B[0;31mKeyError\u001B[0m                                  Traceback (most recent call last)",
      "Cell \u001B[0;32mIn[17], line 1\u001B[0m\n\u001B[0;32m----> 1\u001B[0m \u001B[43mtitles\u001B[49m\u001B[43m[\u001B[49m\u001B[38;5;124;43m'\u001B[39;49m\u001B[38;5;124;43mRHM 2(1).indb\u001B[39;49m\u001B[38;5;124;43m'\u001B[39;49m\u001B[43m]\u001B[49m\n",
      "\u001B[0;31mKeyError\u001B[0m: 'RHM 2(1).indb'"
     ]
    }
   ],
   "source": [
    "titles['RHM 2(1).indb']"
   ],
   "metadata": {
    "collapsed": false
   }
  },
  {
   "cell_type": "code",
   "execution_count": 19,
   "outputs": [],
   "source": [
    "references = researcher.get_references_for('55677a9eb759dac6220d88cee2f1718f02a181be')"
   ],
   "metadata": {
    "collapsed": false
   }
  },
  {
   "cell_type": "code",
   "execution_count": 20,
   "outputs": [
    {
     "data": {
      "text/plain": "119"
     },
     "execution_count": 20,
     "metadata": {},
     "output_type": "execute_result"
    }
   ],
   "source": [
    "len(references)"
   ],
   "metadata": {
    "collapsed": false
   }
  },
  {
   "cell_type": "code",
   "execution_count": 24,
   "outputs": [],
   "source": [
    "titles = sorted([reference.title for reference in references])\n"
   ],
   "metadata": {
    "collapsed": false
   }
  },
  {
   "cell_type": "code",
   "execution_count": 25,
   "outputs": [
    {
     "data": {
      "text/plain": "['A Cognitive-Developmental Model of Career Development-An Adaptation of the Perry Scheme',\n 'A Skill Approach to the Development of Reflective Thinking',\n 'A comparison of epistemological beliefs between gifted and non‐gifted high school students',\n 'A social-cognitive approach to motivation and personality',\n 'Adult development and social theory: A paradigmatic reappraisal.',\n 'An investigation into the structure of epistemological style',\n 'Are epistemological beliefs similar across domains',\n 'Belief, Attitude, Intention, and Behavior: An Introduction to Theory and Research',\n 'Beyond Cold Conceptual Change: The Role of Motivational Beliefs and Classroom Contextual Factors in the Process of Conceptual Change',\n 'Beyond Formal Operations: Late Adolescent and Adult Cognitive Development',\n 'Beyond the Purely Cognitive: Belief Systems, Social Cognitions, and Metacognitions As Driving Forces in Intellectual Performance',\n 'CONJECTURES AND REFUTATIONS',\n 'Chapter 10: Epistemology and Educational Research: The Influence of Recent Approaches to Knowledge',\n 'Chapter 1: The Knower and the Known: The Nature of Knowledge in Research on Teaching',\n 'Chapter 3: To Capture the Ineffable: New Forms of Assessment in Higher Education',\n 'Cognition in practice : mind, mathematics, and culture in everyday life',\n 'Cognition, Metacognition, and Epistemic Cognition',\n 'Cognitive development, epistemic doubt, and identity formation in adolescence',\n 'Cognitive development: foundational theories of core domains.',\n 'Comparisons and applications of developmental models',\n 'Comparisons of beliefs about the nature of knowledge and learning among postsecondary students',\n 'Conceptions of Prose Coherence: Individual Differences in Epistemological Standards.',\n 'Conceptual Change in Childhood',\n 'Conceptual systems and personality organization',\n 'Connected Education for Women',\n \"Constructivism, Socioculturalism, and Popper's World 3\",\n 'Creating powerful thinking in teachers and students : diverse perspectives',\n 'Critical thinking : theory, research, practice, and possibilities',\n 'Criticism and the Growth of Knowledge: Falsification and the Methodology of Scientific Research Programmes',\n 'Culture and the self: Implications for cognition, emotion, and motivation.',\n 'Developing Reflective Judgment: Understanding and Promoting Intellectual Growth and Critical Thinking in Adolescents and Adults. Jossey-Bass Higher and Adult Education Series and Jossey-Bass Social and Behavioral Science Series.',\n 'Development between the ages of 11 and 25.',\n 'Developmental Range of Reflective Judgment: The Effect of Contextual Support and Practice on Developmental Stage',\n 'Dialectical schemata: A framework for the empirical study of the development of dialectical thinking.',\n \"Dilemmas of Knowing: Ethical and Epistemological Dimensions of Teachers' Work and Development\",\n 'Disciplinary differences in knowledge validation',\n 'Domain knowledge: Evolving themes and emerging concerns.',\n 'Domain-Generality versus Domain-Specificity: The Life and Impending Death of a False Dichotomy.',\n 'Educational measurement, 3rd ed.',\n 'Effects of beliefs about the nature of knowledge on comprehension.',\n 'Epistemological Beliefs and First-Year College Students: Motivation and Cognition in Different Instructional Contexts.',\n 'Epistemological Beliefs in Introductory Physics',\n 'Epistemological beliefs and mathematical text comprehension: believing it is simple does not make it so',\n 'Epistemological debates, feminist voices: Science, social values, and the study of women.',\n 'Epistemological development and academic performance among secondary students.',\n 'Epistemology and Educational Research: The Influence of Recent Approaches to Knowledge',\n 'Ethnicity and culture in educational psychology.',\n 'Falsification and the Methodology of Scientific Research Programmes',\n 'Feedback and Self-Regulated Learning: A Theoretical Synthesis',\n 'Feminist Epistemologies',\n 'Feminist approaches to science',\n 'Forms of Intellectual and Ethical Development in the College Years: A Scheme. Jossey-Bass Higher and Adult Education Series.',\n 'From is to ought: How to commit the naturalistic fallacy and get away with',\n 'How Inferences about Novel Domain-Related Concepts Can Be Constrained by Structured Knowledge.',\n 'How college affects students : findings and insights from twenty years of research',\n 'How we think : a restatement of the relation of reflective thinking to the educative process',\n \"In a Different Voice: Psychological Theory and Women''s\",\n \"Individual differences in college students' performance on formal operations tasks\",\n 'Individualism and Collectivism: Cross-Cultural Perspectives on Self-Ingroup Relationships',\n \"Knowing Why I Now Know Better: Children's and Youth's Explanations of Their Worldview Changes.\",\n \"Knowing and Reasoning in College: Gender-Related Patterns in Students' Intellectual Development\",\n 'Knowledge and the university curriculum',\n 'Learning to Think Mathematically: Problem Solving, Metacognition, and Sense Making in Mathematics (Reprint)',\n 'Logic, the theory of inquiry',\n 'Mathematical Problem Solving',\n 'Mental Models of the Day/Night Cycle',\n 'Models for Training in Child Development and Social Policy. Papers Presented at the Biennial Meeting of the Society for Research in Child Development (Toronto, Ontario, Canada, April 25-28, 1985).',\n 'Monitoring Text Comprehension: Individual Differences in Epistemological Standards',\n 'Motivation in African Americans',\n 'Motivational and self-regulated learning components of classroom academic performance.',\n 'Neo-Piagetian theories of child development.',\n 'On Domain Specificity. . . More or Less General and Specific Constraints on Cognitive Development.',\n 'On Ego Development',\n 'On understanding the nature of scientific knowledge',\n \"Physics students' epistemologies and views about knowing and learning\",\n \"Piaget's theory of intellectual development\",\n 'Reflective judgment: Concepts of justification and their relationship to age and education☆',\n 'Relativistic and Dialectical Thought in Three Adult Age-Groups',\n 'Reliability and Predictive Validity of the Motivated Strategies for Learning Questionnaire (Mslq)',\n \"Role of epistemological beliefs and learned helplessness in secondary school students' learning science concepts from text.\",\n 'Science as argument : Implications for teaching and learning scientific thinking',\n 'Self-regulation of learning and performance: Issues and educational applications.',\n 'Semantic and Pragmatic Aspects of Context Effects in Social and Psychological Research',\n 'Sequentiality and Consistency in the development of reflective judgment: A six-year longitudinal study',\n 'Situated Learning: Legitimate Peripheral Participation',\n 'Stage and sequence: The cognitive-developmental approach to socialization',\n 'Stage-related properties of cognitive development',\n 'Student Views About Learning Math and Social Studies',\n 'Synthesizing epistemological belief research: Tentative understandings and provocative confusions',\n 'Taxonomy of Educational Objectives: The Classification of Educational Goals.',\n 'Taxonomy of educational objectives',\n 'Teaching Disciplinary Thinking in Academic Coursework. Report Series 2.19.',\n 'The Authoritarian Personality',\n \"The Child's Theory of Mind\",\n 'The Construction Zone: Working for Cognitive Change in School',\n \"The Epistemological Orientation of Gifted Adolescents: An Empirical Test of Perry's Model\",\n 'The Growth Of Logical Thinking From Childhood To Adolescence: An Essay On The Construction Of Formal Operational Structures',\n 'The Growth of Logical Thinking from Childhood to Adolescence',\n 'The Justification of Beliefs in Young Adults: A Longitudinal Study.',\n 'The Knower and the Known: The Nature of Knowledge in Research on Teaching',\n 'The Learning Environment Preferences: Exploring the Construct Validity of an Objective Measure of th',\n 'The Self and Social Behavior in Differing Cultural Contexts',\n 'The Society for Research in Child Development',\n 'The Structure of Scientific Revolutions',\n 'The Study of Culture, Ethnicity, and Race in American Psychology',\n 'The Voices of Women Making Meaning in Mathematics',\n 'The development of scientific thinking skills',\n 'The role of attitudes and beliefs in learning to teach',\n 'Thought and language.',\n 'To Capture the Ineffable: New Forms of Assessment in Higher Education',\n \"University Professors' Views of Knowledge and Validation Processes.\",\n \"Validity of Psychological Assessment: Validation of Inferences from Persons' Responses and Performances as Scientific Inquiry into Score Meaning. Research Report RR-94-45.\",\n 'Voices of the Mind: A Sociocultural Approach to Mediated Action',\n \"When Good Teaching Leads to Bad Results: The Disasters of 'Well-Taught' Mathematics Courses\",\n 'When the Problem Is Not the Question and the Solution Is Not the Answer: Mathematical Knowing and Teaching',\n \"Without a Word: Teaching Beyond Women's Silence\",\n 'Women s ways of knowing: The development of self',\n \"Women's ways of knowing : the development of self, voice, and mind\",\n \"Young children's theory of knowing: The development of a folk epistemology\"]"
     },
     "execution_count": 25,
     "metadata": {},
     "output_type": "execute_result"
    }
   ],
   "source": [
    "titles"
   ],
   "metadata": {
    "collapsed": false
   }
  },
  {
   "cell_type": "code",
   "execution_count": 26,
   "outputs": [],
   "source": [
    "bulk_papers = researcher.get_papers('55677a9eb759dac6220d88cee2f1718f02a181be')"
   ],
   "metadata": {
    "collapsed": false
   }
  },
  {
   "cell_type": "code",
   "execution_count": 28,
   "outputs": [],
   "source": [
    "bp = list(bulk_papers)[0]"
   ],
   "metadata": {
    "collapsed": false
   }
  },
  {
   "cell_type": "code",
   "execution_count": 29,
   "outputs": [
    {
     "data": {
      "text/plain": "<s2agr.entities.Paper at 0x7fabcaa7d310>"
     },
     "execution_count": 29,
     "metadata": {},
     "output_type": "execute_result"
    }
   ],
   "source": [
    "bp"
   ],
   "metadata": {
    "collapsed": false
   }
  },
  {
   "cell_type": "code",
   "execution_count": 30,
   "outputs": [],
   "source": [
    "with open('bulk.json','w') as jf:\n",
    "    jf.write(json.dumps(bp.jason_dictionary))"
   ],
   "metadata": {
    "collapsed": false
   }
  },
  {
   "cell_type": "code",
   "execution_count": null,
   "outputs": [],
   "source": [],
   "metadata": {
    "collapsed": false
   }
  }
 ],
 "metadata": {
  "kernelspec": {
   "display_name": "Python 3",
   "language": "python",
   "name": "python3"
  },
  "language_info": {
   "codemirror_mode": {
    "name": "ipython",
    "version": 2
   },
   "file_extension": ".py",
   "mimetype": "text/x-python",
   "name": "python",
   "nbconvert_exporter": "python",
   "pygments_lexer": "ipython2",
   "version": "2.7.6"
  }
 },
 "nbformat": 4,
 "nbformat_minor": 0
}
