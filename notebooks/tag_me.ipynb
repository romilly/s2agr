{
 "cells": [
  {
   "cell_type": "markdown",
   "source": [
    "Accesses the tagMe service identifying relevant wikipedia pages from the text.\n",
    "\n",
    "[TagMe API](https://sobigdata.d4science.org/web/tagme/tagme-help)"
   ],
   "metadata": {
    "collapsed": false,
    "pycharm": {
     "name": "#%% md\n"
    }
   }
  },
  {
   "cell_type": "code",
   "execution_count": 1,
   "outputs": [],
   "source": [
    "import requests\n",
    "from secrets.tag_me import TOKEN"
   ],
   "metadata": {
    "collapsed": false,
    "pycharm": {
     "name": "#%%\n"
    }
   }
  },
  {
   "cell_type": "code",
   "execution_count": 2,
   "outputs": [],
   "source": [
    "def tag(token: str, text: str):\n",
    "    response = requests.get(f'https://tagme.d4science.org/tagme/tag?lang=en&gcube-token={token}&text={text}')\n",
    "    return response.text"
   ],
   "metadata": {
    "collapsed": false,
    "pycharm": {
     "name": "#%%\n"
    }
   }
  },
  {
   "cell_type": "code",
   "execution_count": 3,
   "outputs": [
    {
     "data": {
      "text/plain": "'{\"test\":\"5\",\"annotations\":[{\"spot\":\"Complex Networks\",\"start\":0,\"link_probability\":0.1928934007883072,\"rho\":0.0964467003941536,\"end\":16,\"id\":1704711,\"title\":\"Complex network\"},{\"spot\":\"Deep Learning\",\"start\":21,\"link_probability\":0.8353658318519592,\"rho\":0.4176829159259796,\"end\":34,\"id\":32472154,\"title\":\"Deep learning\"}],\"time\":2,\"api\":\"tag\",\"lang\":\"en\",\"timestamp\":\"2023-01-31T09:21:05\"}'"
     },
     "execution_count": 3,
     "metadata": {},
     "output_type": "execute_result"
    }
   ],
   "source": [
    "tag(TOKEN, 'Complex Networks and Deep Learning')"
   ],
   "metadata": {
    "collapsed": false,
    "pycharm": {
     "name": "#%%\n"
    }
   }
  },
  {
   "cell_type": "markdown",
   "source": [],
   "metadata": {
    "collapsed": false,
    "pycharm": {
     "name": "#%% md\n"
    }
   }
  },
  {
   "cell_type": "code",
   "execution_count": 4,
   "outputs": [],
   "source": [
    "import tagme"
   ],
   "metadata": {
    "collapsed": false,
    "pycharm": {
     "name": "#%%\n"
    }
   }
  },
  {
   "cell_type": "code",
   "execution_count": 5,
   "outputs": [],
   "source": [
    "tagme.GCUBE_TOKEN = TOKEN"
   ],
   "metadata": {
    "collapsed": false,
    "pycharm": {
     "name": "#%%\n"
    }
   }
  },
  {
   "cell_type": "code",
   "execution_count": 6,
   "outputs": [],
   "source": [
    "bptext = \"\"\"\n",
    "During learning, the brain modifies synapses to improve behaviour. In the cortex, synapses are embedded within multilayered networks, making it difficult to determine the effect of an individual synaptic modification on the behaviour of the system. The backpropagation algorithm solves this problem in deep artificial neural networks, but historically it has been viewed as biologically problematic. Nonetheless, recent developments in neuroscience and the successes of artificial neural networks have reinvigorated interest in whether backpropagation offers insights for understanding learning in the cortex. The backpropagation algorithm learns quickly by computing synaptic updates using feedback connections to deliver error signals. Although feedback connections are ubiquitous in the cortex, it is difficult to see how they could deliver the error signals required by strict formulations of backpropagation. Here we build on past and recent developments to argue that feedback connections may instead induce neural activities whose differences can be used to locally approximate these signals and hence drive effective learning in deep networks in the brain. The backpropagation of error (backprop) algorithm is frequently used to train deep neural networks in machine learning, but it has not been viewed as being implemented by the brain. In this Perspective, however, Lillicrap and colleagues argue that the key principles underlying backprop may indeed have a role in brain function.\n",
    "\"\"\""
   ],
   "metadata": {
    "collapsed": false,
    "pycharm": {
     "name": "#%%\n"
    }
   }
  },
  {
   "cell_type": "code",
   "execution_count": 7,
   "outputs": [],
   "source": [
    "bp = tagme.annotate(bptext)"
   ],
   "metadata": {
    "collapsed": false,
    "pycharm": {
     "name": "#%%\n"
    }
   }
  },
  {
   "cell_type": "code",
   "execution_count": 8,
   "outputs": [
    {
     "name": "stdout",
     "output_type": "stream",
     "text": [
      "learning -> Learning (score: 0.2219565212726593)\n",
      "brain -> Brain (score: 0.2681170701980591)\n",
      "synapses -> Synapse (score: 0.300570547580719)\n",
      "behaviour -> Behavior (score: 0.29299256205558777)\n",
      "cortex -> Cerebral cortex (score: 0.2682543396949768)\n",
      "synapses -> Synapse (score: 0.3159453272819519)\n",
      "embedded -> Embedded system (score: 0.10107942670583725)\n",
      "networks -> Artificial neural network (score: 0.23970748484134674)\n",
      "synaptic -> Synapse (score: 0.2412956953048706)\n",
      "system -> Computer (score: 0.18107981979846954)\n",
      "backpropagation -> Backpropagation (score: 0.7308624982833862)\n",
      "algorithm -> Algorithm (score: 0.20850473642349243)\n",
      "artificial neural networks -> Artificial neural network (score: 0.2167300432920456)\n",
      "neural networks -> Artificial neural network (score: 0.2526656985282898)\n",
      "historically -> History (score: 0.15428531169891357)\n",
      "biologically -> Biology (score: 0.2020793855190277)\n",
      "problematic -> Problematic (album) (score: 0.11306879669427872)\n",
      "recent developments -> Global brain (score: 0.15635330975055695)\n",
      "neuroscience -> Neuroscience (score: 0.43939638137817383)\n",
      "artificial neural networks -> Artificial neural network (score: 0.2167300432920456)\n",
      "neural networks -> Biological neural network (score: 0.45973092317581177)\n",
      "interest -> Attention (score: 0.14193366467952728)\n",
      "backpropagation -> Backpropagation (score: 0.5)\n",
      "insights -> Insight (score: 0.2230503261089325)\n",
      "understanding -> Understanding (score: 0.3521899878978729)\n",
      "learning -> Learning (score: 0.33415156602859497)\n",
      "cortex -> Cerebral cortex (score: 0.33666229248046875)\n",
      "backpropagation -> Backpropagation (score: 0.7451329827308655)\n",
      "algorithm -> Algorithm (score: 0.35394418239593506)\n",
      "computing -> Computer (score: 0.23980048298835754)\n",
      "synaptic -> Synapse (score: 0.19254112243652344)\n",
      "feedback -> Feedback (score: 0.17166736721992493)\n",
      "connections -> Cerebral cortex (score: 0.15976674854755402)\n",
      "error -> Speedometer (score: 0.16705554723739624)\n",
      "signals -> Signal (electrical engineering) (score: 0.25315117835998535)\n",
      "feedback -> Feedback (score: 0.3015937805175781)\n",
      "connections -> Cerebral cortex (score: 0.21341803669929504)\n",
      "ubiquitous -> Ubiquitous computing (score: 0.16672861576080322)\n",
      "cortex -> Neocortex (score: 0.33055317401885986)\n",
      "deliver -> Childbirth (score: 0.1478172242641449)\n",
      "error -> Type I and type II errors (score: 0.16090421378612518)\n",
      "backpropagation -> Backpropagation (score: 0.5)\n",
      "we -> We (novel) (score: 0.10306049138307571)\n",
      "past -> Past tense (score: 0.10252135992050171)\n",
      "argue -> Argument (score: 0.1484188586473465)\n",
      "feedback -> Feedback (score: 0.2803456485271454)\n",
      "connections -> Cerebral cortex (score: 0.14077377319335938)\n",
      "approximate -> Approximation (score: 0.17100869119167328)\n",
      "learning -> Learning (score: 0.15505552291870117)\n",
      "networks -> Artificial neural network (score: 0.1574522703886032)\n",
      "brain -> Brain (score: 0.35321101546287537)\n",
      "backpropagation -> Backpropagation (score: 0.6012218594551086)\n",
      "error -> Type I and type II errors (score: 0.10747890174388885)\n",
      "algorithm -> Algorithm (score: 0.229053795337677)\n",
      "deep neural networks -> Deep learning (score: 0.3333333432674408)\n",
      "machine learning -> Machine learning (score: 0.3756265640258789)\n",
      "brain -> Brain (score: 0.24387410283088684)\n",
      "Perspective -> Point of view (philosophy) (score: 0.10696670413017273)\n",
      "Lillicrap -> Cameron Lillicrap (score: 0.2142857164144516)\n",
      "argue -> Argument (score: 0.12669791281223297)\n",
      "principles -> Principle (score: 0.12539264559745789)\n",
      "backprop -> Backpropagation (score: 0.5)\n",
      "may -> May 2005 in science (score: 0.11953386664390564)\n",
      "brain -> Brain (score: 0.3595356047153473)\n",
      "brain function -> Brain (score: 0.39469167590141296)\n"
     ]
    }
   ],
   "source": [
    "for ann in bp.get_annotations(0.1):\n",
    "    print(ann)"
   ],
   "metadata": {
    "collapsed": false,
    "pycharm": {
     "name": "#%%\n"
    }
   }
  },
  {
   "cell_type": "code",
   "execution_count": 9,
   "outputs": [],
   "source": [
    "from io import StringIO\n",
    "\n",
    "\n",
    "def apply(text, annotations):\n",
    "    annotated = StringIO()\n",
    "    current_position = 0\n",
    "    for annotation in annotations.get_annotations(0.1):\n",
    "        next_position = annotation.begin\n",
    "        annotated.write(text[current_position:next_position])\n",
    "        annotated_text = text[next_position:annotation.end]\n",
    "        link = tagme.title_to_uri(annotation.entity_title)\n",
    "        annotated.write(f'[{annotated_text}]({link})')\n",
    "        current_position = annotation.end\n",
    "    result = annotated.getvalue()\n",
    "    annotated.close()\n",
    "    return result\n"
   ],
   "metadata": {
    "collapsed": false,
    "pycharm": {
     "name": "#%%\n"
    }
   }
  },
  {
   "cell_type": "code",
   "execution_count": 10,
   "outputs": [],
   "source": [
    "a = apply(bptext, bp)"
   ],
   "metadata": {
    "collapsed": false,
    "pycharm": {
     "name": "#%%\n"
    }
   }
  },
  {
   "cell_type": "code",
   "execution_count": 11,
   "outputs": [],
   "source": [
    "with open('spike.md','w') as spike:\n",
    "    spike.write(a)"
   ],
   "metadata": {
    "collapsed": false,
    "pycharm": {
     "name": "#%%\n"
    }
   }
  },
  {
   "cell_type": "code",
   "execution_count": 11,
   "outputs": [],
   "source": [],
   "metadata": {
    "collapsed": false,
    "pycharm": {
     "name": "#%%\n"
    }
   }
  }
 ],
 "metadata": {
  "kernelspec": {
   "display_name": "Python 3",
   "language": "python",
   "name": "python3"
  },
  "language_info": {
   "codemirror_mode": {
    "name": "ipython",
    "version": 2
   },
   "file_extension": ".py",
   "mimetype": "text/x-python",
   "name": "python",
   "nbconvert_exporter": "python",
   "pygments_lexer": "ipython2",
   "version": "2.7.6"
  }
 },
 "nbformat": 4,
 "nbformat_minor": 0
}