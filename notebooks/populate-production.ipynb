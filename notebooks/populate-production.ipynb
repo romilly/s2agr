{
 "cells": [
  {
   "cell_type": "code",
   "execution_count": 2,
   "outputs": [],
   "source": [
    "import logging\n",
    "\n",
    "from s2agr.builder import Builder\n",
    "from s2agr.monitor import LoggingMonitor\n",
    "from s2agr.persistence.database_catalogue import DatabaseCatalogue, production_connection"
   ],
   "metadata": {
    "collapsed": false
   }
  },
  {
   "cell_type": "code",
   "execution_count": 3,
   "outputs": [],
   "source": [
    "catalogue = DatabaseCatalogue(production_connection())\n",
    "librarian = Builder().with_catalogue(catalogue).with_monitor(LoggingMonitor(log_level=logging.DEBUG)).build()"
   ],
   "metadata": {
    "collapsed": false
   }
  },
  {
   "cell_type": "code",
   "execution_count": 4,
   "outputs": [],
   "source": [
    "D_MARR = '153281777'"
   ],
   "metadata": {
    "collapsed": false
   }
  },
  {
   "cell_type": "code",
   "execution_count": 5,
   "outputs": [],
   "source": [
    "author = librarian.get_author(D_MARR)"
   ],
   "metadata": {
    "collapsed": false
   }
  },
  {
   "cell_type": "code",
   "execution_count": 6,
   "outputs": [],
   "source": [
    "papers = librarian.get_authored_papers_by(D_MARR, lazy=False)"
   ],
   "metadata": {
    "collapsed": false
   }
  },
  {
   "cell_type": "code",
   "execution_count": 7,
   "outputs": [],
   "source": [
    "G_HINTON = '46831169'"
   ],
   "metadata": {
    "collapsed": false
   }
  },
  {
   "cell_type": "code",
   "execution_count": 8,
   "metadata": {
    "collapsed": true
   },
   "outputs": [],
   "source": [
    "author = librarian.get_author(G_HINTON)\n"
   ]
  },
  {
   "cell_type": "code",
   "execution_count": 9,
   "outputs": [],
   "source": [
    "papers = librarian.get_authored_papers_by(G_HINTON, lazy=False)\n"
   ],
   "metadata": {
    "collapsed": false
   }
  },
  {
   "cell_type": "code",
   "execution_count": 10,
   "outputs": [],
   "source": [
    "G_E_HINTON = '1695689'"
   ],
   "metadata": {
    "collapsed": false
   }
  },
  {
   "cell_type": "code",
   "execution_count": 11,
   "outputs": [],
   "source": [
    "author = librarian.get_author(G_E_HINTON)\n"
   ],
   "metadata": {
    "collapsed": false
   }
  },
  {
   "cell_type": "code",
   "execution_count": 12,
   "outputs": [
    {
     "ename": "DatabaseCatalogueException",
     "evalue": "",
     "output_type": "error",
     "traceback": [
      "\u001B[0;31m---------------------------------------------------------------------------\u001B[0m",
      "\u001B[0;31mNotNullViolation\u001B[0m                          Traceback (most recent call last)",
      "File \u001B[0;32m~/git/active/s2agr/src/s2agr/persistence/database_catalogue.py:82\u001B[0m, in \u001B[0;36mDatabaseCatalogue.write_wrote\u001B[0;34m(self, paper_id, author_id)\u001B[0m\n\u001B[1;32m     81\u001B[0m \u001B[38;5;28;01mtry\u001B[39;00m:\n\u001B[0;32m---> 82\u001B[0m     \u001B[43mcursor\u001B[49m\u001B[38;5;241;43m.\u001B[39;49m\u001B[43mexecute\u001B[49m\u001B[43m(\u001B[49m\u001B[38;5;28;43mself\u001B[39;49m\u001B[38;5;241;43m.\u001B[39;49m\u001B[43mINSERT_WROTE_SQL\u001B[49m\u001B[43m,\u001B[49m\n\u001B[1;32m     83\u001B[0m \u001B[43m                   \u001B[49m\u001B[43m(\u001B[49m\u001B[43mpaper_id\u001B[49m\u001B[43m,\u001B[49m\u001B[43m \u001B[49m\u001B[43mauthor_id\u001B[49m\u001B[43m)\u001B[49m\u001B[43m)\u001B[49m\n\u001B[1;32m     84\u001B[0m     \u001B[38;5;28mself\u001B[39m\u001B[38;5;241m.\u001B[39mconnection\u001B[38;5;241m.\u001B[39mcommit()\n",
      "\u001B[0;31mNotNullViolation\u001B[0m: null value in column \"author_id\" of relation \"wrote\" violates not-null constraint\nDETAIL:  Failing row contains (null, 79d8007123429ec2b36b793c211787f862ecd81c).\n",
      "\nThe above exception was the direct cause of the following exception:\n",
      "\u001B[0;31mDatabaseCatalogueException\u001B[0m                Traceback (most recent call last)",
      "Cell \u001B[0;32mIn[12], line 1\u001B[0m\n\u001B[0;32m----> 1\u001B[0m papers \u001B[38;5;241m=\u001B[39m \u001B[43mlibrarian\u001B[49m\u001B[38;5;241;43m.\u001B[39;49m\u001B[43mget_authored_papers_by\u001B[49m\u001B[43m(\u001B[49m\u001B[43mG_E_HINTON\u001B[49m\u001B[43m,\u001B[49m\u001B[43m \u001B[49m\u001B[43mlazy\u001B[49m\u001B[38;5;241;43m=\u001B[39;49m\u001B[38;5;28;43;01mFalse\u001B[39;49;00m\u001B[43m)\u001B[49m\n",
      "File \u001B[0;32m~/git/active/s2agr/src/s2agr/librarian.py:87\u001B[0m, in \u001B[0;36mLibrarian.get_authored_papers_by\u001B[0;34m(self, author_id, lazy)\u001B[0m\n\u001B[1;32m     85\u001B[0m \u001B[38;5;28;01mtry\u001B[39;00m:\n\u001B[1;32m     86\u001B[0m     \u001B[38;5;28mself\u001B[39m\u001B[38;5;241m.\u001B[39mmonitor\u001B[38;5;241m.\u001B[39mdebug(\u001B[38;5;124m'\u001B[39m\u001B[38;5;124madding paper \u001B[39m\u001B[38;5;132;01m%s\u001B[39;00m\u001B[38;5;124m'\u001B[39m \u001B[38;5;241m%\u001B[39m paper\u001B[38;5;241m.\u001B[39mpaper_id)\n\u001B[0;32m---> 87\u001B[0m     \u001B[38;5;28;43mself\u001B[39;49m\u001B[38;5;241;43m.\u001B[39;49m\u001B[43madd_paper_and_attributions\u001B[49m\u001B[43m(\u001B[49m\u001B[43mpaper\u001B[49m\u001B[43m)\u001B[49m\n\u001B[1;32m     88\u001B[0m     \u001B[38;5;28mself\u001B[39m\u001B[38;5;241m.\u001B[39madd_citations_and_references(paper)\n\u001B[1;32m     89\u001B[0m \u001B[38;5;28;01mexcept\u001B[39;00m psycopg2\u001B[38;5;241m.\u001B[39mError \u001B[38;5;28;01mas\u001B[39;00m e:\n",
      "File \u001B[0;32m~/git/active/s2agr/src/s2agr/librarian.py:78\u001B[0m, in \u001B[0;36mLibrarian.add_paper_and_attributions\u001B[0;34m(self, paper)\u001B[0m\n\u001B[1;32m     76\u001B[0m authors \u001B[38;5;241m=\u001B[39m (Author(ajd) \u001B[38;5;28;01mfor\u001B[39;00m ajd \u001B[38;5;129;01min\u001B[39;00m paper\u001B[38;5;241m.\u001B[39mauthors)\n\u001B[1;32m     77\u001B[0m \u001B[38;5;28;01mfor\u001B[39;00m author \u001B[38;5;129;01min\u001B[39;00m authors:\n\u001B[0;32m---> 78\u001B[0m     \u001B[38;5;28;43mself\u001B[39;49m\u001B[38;5;241;43m.\u001B[39;49m\u001B[43mcatalogue\u001B[49m\u001B[38;5;241;43m.\u001B[39;49m\u001B[43mwrite_wrote\u001B[49m\u001B[43m(\u001B[49m\u001B[43mpaper\u001B[49m\u001B[38;5;241;43m.\u001B[39;49m\u001B[43mpaper_id\u001B[49m\u001B[43m,\u001B[49m\u001B[43m \u001B[49m\u001B[43mauthor\u001B[49m\u001B[38;5;241;43m.\u001B[39;49m\u001B[43mauthor_id\u001B[49m\u001B[43m)\u001B[49m\n",
      "File \u001B[0;32m~/git/active/s2agr/src/s2agr/persistence/database_catalogue.py:87\u001B[0m, in \u001B[0;36mDatabaseCatalogue.write_wrote\u001B[0;34m(self, paper_id, author_id)\u001B[0m\n\u001B[1;32m     85\u001B[0m \u001B[38;5;28;01mexcept\u001B[39;00m \u001B[38;5;167;01mException\u001B[39;00m \u001B[38;5;28;01mas\u001B[39;00m e:\n\u001B[1;32m     86\u001B[0m     \u001B[38;5;28mself\u001B[39m\u001B[38;5;241m.\u001B[39mconnection\u001B[38;5;241m.\u001B[39mrollback()\n\u001B[0;32m---> 87\u001B[0m     \u001B[38;5;28;01mraise\u001B[39;00m DatabaseCatalogueException \u001B[38;5;28;01mfrom\u001B[39;00m \u001B[38;5;21;01me\u001B[39;00m\n",
      "\u001B[0;31mDatabaseCatalogueException\u001B[0m: "
     ]
    }
   ],
   "source": [
    "papers = librarian.get_authored_papers_by(G_E_HINTON, lazy=False)\n"
   ],
   "metadata": {
    "collapsed": false
   }
  },
  {
   "cell_type": "code",
   "execution_count": null,
   "outputs": [],
   "source": [],
   "metadata": {
    "collapsed": false
   }
  }
 ],
 "metadata": {
  "kernelspec": {
   "display_name": "Python 3",
   "language": "python",
   "name": "python3"
  },
  "language_info": {
   "codemirror_mode": {
    "name": "ipython",
    "version": 2
   },
   "file_extension": ".py",
   "mimetype": "text/x-python",
   "name": "python",
   "nbconvert_exporter": "python",
   "pygments_lexer": "ipython2",
   "version": "2.7.6"
  }
 },
 "nbformat": 4,
 "nbformat_minor": 0
}
