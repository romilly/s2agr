{
 "cells": [
  {
   "cell_type": "code",
   "execution_count": 1,
   "metadata": {
    "collapsed": true,
    "pycharm": {
     "name": "#%%\n"
    }
   },
   "outputs": [],
   "source": [
    "import requests\n",
    "\n",
    "def query(*keywords):\n",
    "    url = 'https://api.semanticscholar.org/graph/v1/paper/search?query=%s' % '+'.join(keywords)\n",
    "    response = requests.get(url)\n",
    "    return response.json()"
   ]
  },
  {
   "cell_type": "code",
   "execution_count": 2,
   "outputs": [
    {
     "data": {
      "text/plain": "{'total': 7428267,\n 'offset': 0,\n 'next': 10,\n 'data': [{'paperId': 'c92ca1139a790b35019f252a87963c4129b051bb',\n   'title': 'Adult neurogenesis, human after all (again): classic, optimized, and future approaches'},\n  {'paperId': '295b3a1dc137629c1293f51435da1150b9b50354',\n   'title': 'Impact of neurodegenerative diseases on human adult hippocampal neurogenesis'},\n  {'paperId': '798a8b21a7f9f7025b75768b22ad2c2c06d178c5',\n   'title': 'A human forebrain organoid model of fragile X syndrome exhibits altered neurogenesis and highlights new treatment strategies'},\n  {'paperId': '00293c2c6e5b52750ae5e0ea79f7e11ae2bf321b',\n   'title': 'Omega-3 polyunsaturated fatty acids protect against inflammation through production of LOX and CYP450 lipid mediators: relevance for major depression and for human hippocampal neurogenesis'},\n  {'paperId': '4abea224e04d9095e16f5e3f228f50056437ed71',\n   'title': 'Neurogenesis in the adult human hippocampus'},\n  {'paperId': 'a060229cffbf8e47f38e3f5dd6637766ecd1765f',\n   'title': 'Unraveling human adult hippocampal neurogenesis'},\n  {'paperId': 'e009849c69001ea6b106ca2869ab26dddd93b897',\n   'title': 'Energy Restriction Enhances Adult Hippocampal Neurogenesis-Associated Memory after Four Weeks in an Adult Human Population with Central Obesity; a Randomized Controlled Trial'},\n  {'paperId': 'c84e557e86fd2cc818878b29f5d605a3ae5aa240',\n   'title': 'Pro- and Anti-Inflammatory Properties of Interleukin in Vitro: Relevance for Major Depression and Human Hippocampal Neurogenesis'},\n  {'paperId': 'e71b0fe1fd426a5bc3b0e90fbf3cee3edc8db310',\n   'title': \"Human Hippocampal Neurogenesis Persists in Aged Adults and Alzheimer's Disease Patients.\"},\n  {'paperId': '1704555c15fe423cc133f90634eba6fdbbd33822',\n   'title': 'Human hippocampal neurogenesis drops sharply in children to undetectable levels in adults'}]}"
     },
     "execution_count": 2,
     "metadata": {},
     "output_type": "execute_result"
    }
   ],
   "source": [
    "query('neurogenesis', 'human')"
   ],
   "metadata": {
    "collapsed": false,
    "pycharm": {
     "name": "#%%\n"
    }
   }
  },
  {
   "cell_type": "code",
   "execution_count": 3,
   "outputs": [
    {
     "data": {
      "text/plain": "{'total': 29077,\n 'offset': 0,\n 'next': 10,\n 'data': [{'paperId': '7f088e199d7136af701d59aa644dcb89152725da',\n   'title': 'An H Theorem for Boltzmann’s Equation for the Yard-Sale Model of Asset Exchange'},\n  {'paperId': 'ff7dfdde160d3887baeebcbcadaf8b39a5159e36',\n   'title': 'Describing Realistic Wealth Distributions with the Extended Yard-Sale Model of Asset Exchange'},\n  {'paperId': '989a690aa793bcd8f3260e3f7fb65b783bac81f3',\n   'title': 'The Growth of Oligarchy in a Yard-Sale Model of Asset Exchange - A Logistic Equation for Wealth Condensation'},\n  {'paperId': 'b848914f4d078edbbd434c63039f6afecd0a09ee',\n   'title': 'A simple probabilistic approach of the Yard-Sale model'},\n  {'paperId': '07391e0ef203932a3b98e1404249489ffe881138',\n   'title': 'Some Asymptotic Results for the Yard-Sale Model of Asset Exchange'},\n  {'paperId': 'e82f311b405ca8770590bb3ab75feb71cdb4e295',\n   'title': 'An H Theorem for Boltzmann’s Equation for the Yard-Sale Model of Asset Exchange'},\n  {'paperId': 'c280ae004c37d2b24e7b498ad165329781fc8090',\n   'title': 'Container Yard Planning Layout Model Considering Demand and Lost Sale Container'},\n  {'paperId': '755a53c399e327f5a6c6e48fb34633282f2ab54d',\n   'title': 'Wealth distribution under Yard–Sale exchange with proportional taxes'},\n  {'paperId': '90b41d986524e54dd20309925d4b6fd4a7acf450',\n   'title': 'Yard-Sale exchange on networks: wealth sharing and wealth appropriation'},\n  {'paperId': '4c50134743aeb81c3a6802f7f86f62696123dec4',\n   'title': 'Mean-field theory of an asset exchange model with economic growth and wealth distribution.'}]}"
     },
     "execution_count": 3,
     "metadata": {},
     "output_type": "execute_result"
    }
   ],
   "source": [
    "query('yard','sale','model')"
   ],
   "metadata": {
    "collapsed": false,
    "pycharm": {
     "name": "#%%\n"
    }
   }
  },
  {
   "cell_type": "code",
   "execution_count": 4,
   "outputs": [
    {
     "data": {
      "text/plain": "{'total': 956192,\n 'offset': 0,\n 'next': 10,\n 'data': [{'paperId': '173620e74efd23876f43c31848ab7d14d54ec941',\n   'title': 'The phonological loop as a language learning device.'},\n  {'paperId': '42bed5dc7532dd9930352df14cd561e5250b61fd',\n   'title': 'Phonological loop and second language acquisition: an overview'},\n  {'paperId': '36b490f09e7cf84184f9e883198d3eb14dffa282',\n   'title': 'Effects of phonological loop on inferential processing during Chinese text reading: Evidence from a dual-task paradigm.'},\n  {'paperId': 'f3f8c8cea782cc5ced1a9ae4929174261eed8bfe',\n   'title': 'The Relationship between KBPR and Working Memory in Children with and without Specific Language Disorder: Phonological Loop and Episodic Buffer'},\n  {'paperId': '1f738ea5b3c844ca39be9d48e99e7c9c9b5d93a6',\n   'title': 'The phonological loop: is speech special?'},\n  {'paperId': '617b5649815538d2a164cdf48a42ca4f09d070d8',\n   'title': 'The prominent role of the cerebellum in the social learning of the phonological loop in working memory: How language was adaptively built from cerebellar inner speech required during stone-tool making'},\n  {'paperId': '62973f97f7fff1065861980f8db6e6624e0ddf9f',\n   'title': 'New Insights into the role of the phonological loop in task switching: evidence from three different age groups'},\n  {'paperId': '80df571d35648323ed21770eaab2b20010fdf452',\n   'title': 'The role of phonological loop in working memory: a visual-related experiment'},\n  {'paperId': '9f67c20ddb41523ae9ecb33d4a3fa01ce7830fe5',\n   'title': 'The phonological loop as a buffer store: An update'},\n  {'paperId': 'f84655a86f1c708baf06c9f43559f33703e75f71',\n   'title': 'The role of phonological loop and visuospatial sketchpad in virtual maze wayfinding'}]}"
     },
     "execution_count": 4,
     "metadata": {},
     "output_type": "execute_result"
    }
   ],
   "source": [
    "query('phonological','loop')"
   ],
   "metadata": {
    "collapsed": false,
    "pycharm": {
     "name": "#%%\n"
    }
   }
  },
  {
   "cell_type": "code",
   "execution_count": null,
   "outputs": [],
   "source": [],
   "metadata": {
    "collapsed": false,
    "pycharm": {
     "name": "#%%\n"
    }
   }
  }
 ],
 "metadata": {
  "kernelspec": {
   "display_name": "Python 3",
   "language": "python",
   "name": "python3"
  },
  "language_info": {
   "codemirror_mode": {
    "name": "ipython",
    "version": 2
   },
   "file_extension": ".py",
   "mimetype": "text/x-python",
   "name": "python",
   "nbconvert_exporter": "python",
   "pygments_lexer": "ipython2",
   "version": "2.7.6"
  }
 },
 "nbformat": 4,
 "nbformat_minor": 0
}