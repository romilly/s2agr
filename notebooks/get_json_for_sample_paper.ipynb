{
 "cells": [
  {
   "cell_type": "code",
   "execution_count": 1,
   "metadata": {
    "collapsed": true,
    "pycharm": {
     "name": "#%%\n"
    }
   },
   "outputs": [],
   "source": [
    "import json\n",
    "from s2ag.requester import ThrottledRequester\n",
    "from s2ag.researcher import Researcher"
   ]
  },
  {
   "cell_type": "code",
   "execution_count": 2,
   "outputs": [],
   "source": [
    "researcher = Researcher(ThrottledRequester())"
   ],
   "metadata": {
    "collapsed": false,
    "pycharm": {
     "name": "#%%\n"
    }
   }
  },
  {
   "cell_type": "code",
   "execution_count": 3,
   "outputs": [],
   "source": [
    "paper = researcher.get_paper('d23508ee81467dff9435d42d1d4633e178e59992')"
   ],
   "metadata": {
    "collapsed": false,
    "pycharm": {
     "name": "#%%\n"
    }
   }
  },
  {
   "cell_type": "code",
   "execution_count": 4,
   "outputs": [
    {
     "data": {
      "text/plain": "[{'authorId': '48446534',\n  'url': 'https://www.semanticscholar.org/author/48446534',\n  'name': 'H. Ishimoto',\n  'aliases': ['H Ishimoto', 'H. Ishimoto', 'Hiroshi Ishimoto'],\n  'affiliations': [],\n  'homepage': None,\n  'paperCount': 43,\n  'citationCount': 1608,\n  'hIndex': 23},\n {'authorId': '5683768',\n  'url': 'https://www.semanticscholar.org/author/5683768',\n  'name': 'A. Kamikouchi',\n  'aliases': ['A Kamikouchi', 'Azusa Kamikouchi'],\n  'affiliations': [],\n  'homepage': None,\n  'paperCount': 68,\n  'citationCount': 3129,\n  'hIndex': 22}]"
     },
     "execution_count": 4,
     "metadata": {},
     "output_type": "execute_result"
    }
   ],
   "source": [
    "paper.authors"
   ],
   "metadata": {
    "collapsed": false,
    "pycharm": {
     "name": "#%%\n"
    }
   }
  },
  {
   "cell_type": "code",
   "execution_count": 5,
   "outputs": [],
   "source": [
    "with open('sample_02.json','w') as jf:\n",
    "    jf.write(json.dumps(paper.jason_dictionary))"
   ],
   "metadata": {
    "collapsed": false,
    "pycharm": {
     "name": "#%%\n"
    }
   }
  },
  {
   "cell_type": "code",
   "execution_count": 5,
   "outputs": [],
   "source": [],
   "metadata": {
    "collapsed": false,
    "pycharm": {
     "name": "#%%\n"
    }
   }
  }
 ],
 "metadata": {
  "kernelspec": {
   "display_name": "Python 3",
   "language": "python",
   "name": "python3"
  },
  "language_info": {
   "codemirror_mode": {
    "name": "ipython",
    "version": 2
   },
   "file_extension": ".py",
   "mimetype": "text/x-python",
   "name": "python",
   "nbconvert_exporter": "python",
   "pygments_lexer": "ipython2",
   "version": "2.7.6"
  }
 },
 "nbformat": 4,
 "nbformat_minor": 0
}