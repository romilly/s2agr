{
 "cells": [
  {
   "cell_type": "markdown",
   "metadata": {
    "pycharm": {
     "name": "#%% md\n"
    }
   },
   "source": [
    "I ran a transitive closure yesterday, and I am puzzled by some of the behaviour I saw.\n",
    "I'm creating this notebook page `explore-fruit-fly-transitive-closure` to investigate it."
   ]
  },
  {
   "cell_type": "markdown",
   "metadata": {
    "pycharm": {
     "name": "#%% md\n"
    }
   },
   "source": [
    "First, since much of what I want to do involves SQL queries, I'll experiment with a helper function `show`."
   ]
  },
  {
   "cell_type": "code",
   "execution_count": 1,
   "metadata": {
    "pycharm": {
     "name": "#%%\n"
    }
   },
   "outputs": [],
   "source": [
    "from s2ag.persistence.database_catalogue import DatabaseCatalogue, test_connection"
   ]
  },
  {
   "cell_type": "code",
   "execution_count": 2,
   "metadata": {
    "pycharm": {
     "name": "#%%\n"
    }
   },
   "outputs": [],
   "source": [
    "connection = test_connection()\n",
    "cursor = connection.cursor()\n",
    "catalogue = DatabaseCatalogue(connection)"
   ]
  },
  {
   "cell_type": "code",
   "execution_count": 3,
   "metadata": {
    "pycharm": {
     "name": "#%%\n"
    }
   },
   "outputs": [],
   "source": [
    "def show(sql_query: str, *params):\n",
    "    try:\n",
    "        cursor.execute(sql_query, params)\n",
    "        for row in cursor.fetchall():\n",
    "            print(row)\n",
    "    except Exception as e:\n",
    "        print('oops! %s' % e)\n",
    "        connection.rollback()"
   ]
  },
  {
   "cell_type": "code",
   "execution_count": 4,
   "metadata": {
    "pycharm": {
     "name": "#%%\n"
    }
   },
   "outputs": [],
   "source": [
    "fly_structured_id = 'e2e1aa8b8b1dfed9c65589d5293acbae4cbe061a'"
   ]
  },
  {
   "cell_type": "code",
   "execution_count": 5,
   "metadata": {
    "pycharm": {
     "name": "#%%\n"
    }
   },
   "outputs": [
    {
     "name": "stdout",
     "output_type": "stream",
     "text": [
      "('e2e1aa8b8b1dfed9c65589d5293acbae4cbe061a', 'Structured sampling of olfactory input by the fly mushroom body')\n"
     ]
    }
   ],
   "source": [
    "show('select paper_id, title from paper where paper_id=(%s)', fly_structured_id)"
   ]
  },
  {
   "cell_type": "code",
   "execution_count": 6,
   "metadata": {
    "pycharm": {
     "name": "#%%\n"
    }
   },
   "outputs": [
    {
     "name": "stdout",
     "output_type": "stream",
     "text": [
      "('3149671f907078eac6835a05a99da756c493a15b',)\n"
     ]
    }
   ],
   "source": [
    "show('select citing_id from citation where cited_id=(%s)', fly_structured_id)\n"
   ]
  },
  {
   "cell_type": "code",
   "execution_count": 6,
   "metadata": {
    "pycharm": {
     "name": "#%%\n"
    }
   },
   "outputs": [],
   "source": []
  },
  {
   "cell_type": "code",
   "execution_count": 7,
   "metadata": {
    "pycharm": {
     "name": "#%%\n"
    }
   },
   "outputs": [
    {
     "name": "stdout",
     "output_type": "stream",
     "text": [
      "('3149671f907078eac6835a05a99da756c493a15b', 'FlyWire: Online community for whole-brain connectomics')\n"
     ]
    }
   ],
   "source": [
    "show('select paper_id, title from paper where paper_id=(%s)', '3149671f907078eac6835a05a99da756c493a15b')"
   ]
  },
  {
   "cell_type": "code",
   "execution_count": 10,
   "metadata": {
    "pycharm": {
     "name": "#%%\n"
    }
   },
   "outputs": [
    {
     "data": {
      "text/plain": [
       "226"
      ]
     },
     "execution_count": 10,
     "metadata": {},
     "output_type": "execute_result"
    }
   ],
   "source": [
    "len(catalogue.paper_ids())"
   ]
  },
  {
   "cell_type": "markdown",
   "metadata": {
    "pycharm": {
     "name": "#%% md\n"
    }
   },
   "source": [
    "So there are 226 papers in the test database at present.\n",
    "\n",
    "How many citations do they have?"
   ]
  },
  {
   "cell_type": "code",
   "execution_count": 13,
   "metadata": {
    "pycharm": {
     "name": "#%%\n"
    }
   },
   "outputs": [],
   "source": [
    "papers = {}\n",
    "for pid in catalogue.paper_ids():\n",
    "    paper = catalogue.read_paper(pid)\n",
    "    papers[pid] = paper"
   ]
  },
  {
   "cell_type": "code",
   "execution_count": 14,
   "metadata": {
    "pycharm": {
     "name": "#%%\n"
    }
   },
   "outputs": [],
   "source": [
    "paper_list = list(papers[pid] for pid in papers.keys())"
   ]
  },
  {
   "cell_type": "code",
   "execution_count": 23,
   "metadata": {
    "pycharm": {
     "name": "#%%\n"
    }
   },
   "outputs": [],
   "source": [
    "triply_cited_papers = list(paper for paper in paper_list if paper.citation_count  >= 3)"
   ]
  },
  {
   "cell_type": "code",
   "execution_count": 24,
   "metadata": {
    "pycharm": {
     "name": "#%%\n"
    }
   },
   "outputs": [],
   "source": [
    "sorted_papers = sorted(triply_cited_papers, key=lambda paper: paper.citation_count)"
   ]
  },
  {
   "cell_type": "code",
   "execution_count": 25,
   "metadata": {
    "pycharm": {
     "name": "#%%\n"
    }
   },
   "outputs": [
    {
     "name": "stdout",
     "output_type": "stream",
     "text": [
      "Molecular and neural mechanisms regulating sexual motivation of virgin female Drosophila d23508ee81467dff9435d42d1d4633e178e59992 3\n",
      "A Survey of Visualization and Analysis in High‐Resolution Connectomics ebaf6fafb4adb7f3657fdbb869249c727ffccf7e 3\n",
      "Endocrine cybernetics: neuropeptides as molecular switches in behavioural decisions 9088b5478fc706f368d2d1fd5661aba9384d782b 3\n",
      "Petascale pipeline for precise alignment of images from serial section electron microscopy a641df4e738354237c2ba9cdb13c7dbca7d58171 3\n",
      "Gliotransmission of D-serine promotes thirst-directed behaviors in Drosophila d798c672b1088b01ddcb747d395a35e9cca48f19 3\n",
      "Mating-driven variability in olfactory local interneuron wiring 564eda3bdb4e72494a6e8bfca32acab9067bef97 3\n",
      "Descending neurons coordinate anterior grooming behavior in Drosophila 53b24a8666c1c8be96a47a24e5ce1ca9b3261aaa 3\n",
      "CONFIRMS: A Toolkit for Scalable, Black Box Connectome Assessment and Investigation 8d51d2e27be1df78179f8b2a19fc002f46228408 3\n",
      "Niwaki Instead of Random Forests: Targeted Serial Sectioning Scanning Electron Microscopy With Reimaging Capabilities for Exploring Central Nervous System Cell Biology and Pathology c5b28df4da07e4be4eb91e45721592ff08d9dc56 3\n",
      "Neural mechanisms underlying the temporal organization of naturalistic animal behavior 69c41c8d0690297bbfb585d598b91a9ca2b3b9dd 3\n",
      "Decisions in an Innate Behavioral Sequence a6839621c1a1213502591b5e3cf2a635435b6a72 3\n",
      "Shedding Light on Inter-Individual Variability of Olfactory Circuits in Drosophila 506662e3afff2be391a28d6ade2bb690e45aa560 3\n",
      "Olfactory Receptor Gene Regulation in Insects: Multiple Mechanisms for Singular Expression 4fc6d2ca1c6cb34f37021b3b69ccc7652e723776 3\n",
      "Genetic Mechanisms Underlying the Evolution of Connectivity in the Human Cortex 8376e8f8c9af578bc7a0f8c9164c8a3c0cd32917 3\n",
      "Reducing Manual Operation Time to Obtain a Segmentation Learning Model for Volume Electron Microscopy Using Stepwise Deep Learning With Manual Correction. f633f8e7a5bce87d6e0833b7312edeefee913fc4 3\n",
      "Inhibition-Dominated Rich-Club Shapes Dynamics in Cortical Microcircuits e903665559341ab08b1fd9acbf8342abf7371799 3\n",
      "Novel Cerebello-Amygdala Connections Provide Missing Link Between Cerebellum and Limbic System 0798df3023e149b98839ebc3bd4cd12d38975def 3\n",
      "Connectomics and the neural basis of behaviour e67ce2076b1edb61228f9401bda7a0ea81f3055a 4\n",
      "In situ X-ray-assisted electron microscopy staining for large biological samples b919838a17d2123e85478b4b0435fd7c69564bb5 4\n",
      "Probing fine-scale connections in the brain. 4335c67b3ed89eddffd9c8c5deb0e86f2b340ada 4\n"
     ]
    }
   ],
   "source": [
    "for paper in sorted_papers[:20]:\n",
    "    print(paper.title, paper.paper_id, paper.citation_count)"
   ]
  },
  {
   "cell_type": "code",
   "execution_count": 26,
   "metadata": {
    "pycharm": {
     "name": "#%%\n"
    }
   },
   "outputs": [],
   "source": [
    "import json\n",
    "\n",
    "with open('sample_02.json', 'w') as sample:\n",
    "    paper = papers['d23508ee81467dff9435d42d1d4633e178e59992']\n",
    "    sample.write(json.dumps(paper.jason_dictionary))\n"
   ]
  },
  {
   "cell_type": "code",
   "execution_count": 8,
   "metadata": {
    "pycharm": {
     "name": "#%%\n"
    }
   },
   "outputs": [],
   "source": [
    "# cursor.close()\n",
    "# connection.close()"
   ]
  }
 ],
 "metadata": {
  "kernelspec": {
   "display_name": "Python 3 (ipykernel)",
   "language": "python",
   "name": "python3"
  },
  "language_info": {
   "codemirror_mode": {
    "name": "ipython",
    "version": 3
   },
   "file_extension": ".py",
   "mimetype": "text/x-python",
   "name": "python",
   "nbconvert_exporter": "python",
   "pygments_lexer": "ipython3",
   "version": "3.8.10"
  }
 },
 "nbformat": 4,
 "nbformat_minor": 1
}