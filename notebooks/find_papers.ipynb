{
 "cells": [
  {
   "cell_type": "code",
   "execution_count": 1,
   "metadata": {
    "collapsed": true
   },
   "outputs": [],
   "source": [
    "import logging\n",
    "\n",
    "from s2agr.builder import Builder\n",
    "from s2agr.monitor import LoggingMonitor\n",
    "from s2agr.persistence.database_catalogue import DatabaseCatalogue, production_connection"
   ]
  },
  {
   "cell_type": "code",
   "execution_count": 2,
   "metadata": {},
   "outputs": [],
   "source": [
    "connection = production_connection()\n",
    "catalogue = DatabaseCatalogue(connection)\n",
    "librarian = Builder().with_catalogue(catalogue).build()"
   ]
  },
  {
   "cell_type": "code",
   "execution_count": 6,
   "metadata": {},
   "outputs": [
    {
     "ename": "NotNullViolation",
     "evalue": "null value in column \"author_id\" of relation \"author\" violates not-null constraint\nDETAIL:  Failing row contains (null, {\"url\": null, \"name\": \"Xiang Zhang\", \"hIndex\": null, \"aliases\": ..., 2023-03-17 21:21:45.097803, 2023-03-17 21:21:45.097803, Xiang Zhang, null).\n",
     "output_type": "error",
     "traceback": [
      "\u001B[0;31m---------------------------------------------------------------------------\u001B[0m",
      "\u001B[0;31mNotNullViolation\u001B[0m                          Traceback (most recent call last)",
      "Cell \u001B[0;32mIn[6], line 5\u001B[0m\n\u001B[1;32m      3\u001B[0m \u001B[38;5;28;01mfor\u001B[39;00m paper_id \u001B[38;5;129;01min\u001B[39;00m paper_ids:\n\u001B[1;32m      4\u001B[0m     monitor\u001B[38;5;241m.\u001B[39minfo(\u001B[38;5;124m'\u001B[39m\u001B[38;5;124mreading \u001B[39m\u001B[38;5;132;01m%s\u001B[39;00m\u001B[38;5;124m'\u001B[39m \u001B[38;5;241m%\u001B[39m paper_id)\n\u001B[0;32m----> 5\u001B[0m     paper \u001B[38;5;241m=\u001B[39m\u001B[43mlibrarian\u001B[49m\u001B[38;5;241;43m.\u001B[39;49m\u001B[43mget_paper\u001B[49m\u001B[43m(\u001B[49m\u001B[43mpaper_id\u001B[49m\u001B[43m)\u001B[49m\n\u001B[1;32m      6\u001B[0m     monitor\u001B[38;5;241m.\u001B[39minfo(\u001B[38;5;124m'\u001B[39m\u001B[38;5;124mread \u001B[39m\u001B[38;5;132;01m%s\u001B[39;00m\u001B[38;5;124m: \u001B[39m\u001B[38;5;132;01m%s\u001B[39;00m\u001B[38;5;124m'\u001B[39m \u001B[38;5;241m%\u001B[39m (paper_id, paper\u001B[38;5;241m.\u001B[39mtitle))\n\u001B[1;32m      7\u001B[0m     librarian\u001B[38;5;241m.\u001B[39madd_influential_citations_for(paper_id)\n",
      "File \u001B[0;32m~/git/active/s2agr/src/s2agr/librarian.py:34\u001B[0m, in \u001B[0;36mLibrarian.get_paper\u001B[0;34m(self, paper_id)\u001B[0m\n\u001B[1;32m     32\u001B[0m authors \u001B[38;5;241m=\u001B[39m (Author(ajd) \u001B[38;5;28;01mfor\u001B[39;00m ajd \u001B[38;5;129;01min\u001B[39;00m paper\u001B[38;5;241m.\u001B[39mauthors)\n\u001B[1;32m     33\u001B[0m \u001B[38;5;28;01mfor\u001B[39;00m author \u001B[38;5;129;01min\u001B[39;00m authors:\n\u001B[0;32m---> 34\u001B[0m     \u001B[38;5;28;43mself\u001B[39;49m\u001B[38;5;241;43m.\u001B[39;49m\u001B[43mcatalogue\u001B[49m\u001B[38;5;241;43m.\u001B[39;49m\u001B[43mwrite_author\u001B[49m\u001B[43m(\u001B[49m\u001B[43mauthor\u001B[49m\u001B[43m)\u001B[49m\n\u001B[1;32m     35\u001B[0m     \u001B[38;5;28mself\u001B[39m\u001B[38;5;241m.\u001B[39mcatalogue\u001B[38;5;241m.\u001B[39mwrite_wrote(paper_id, author\u001B[38;5;241m.\u001B[39mauthor_id)\n\u001B[1;32m     36\u001B[0m \u001B[38;5;28;01mreturn\u001B[39;00m paper\n",
      "File \u001B[0;32m~/git/active/s2agr/src/s2agr/persistence/database_catalogue.py:99\u001B[0m, in \u001B[0;36mDatabaseCatalogue.write_author\u001B[0;34m(self, author)\u001B[0m\n\u001B[1;32m     98\u001B[0m \u001B[38;5;28;01mdef\u001B[39;00m \u001B[38;5;21mwrite_author\u001B[39m(\u001B[38;5;28mself\u001B[39m, author):\n\u001B[0;32m---> 99\u001B[0m     \u001B[38;5;28;43mself\u001B[39;49m\u001B[38;5;241;43m.\u001B[39;49m\u001B[43m_write_author\u001B[49m\u001B[43m(\u001B[49m\u001B[43mauthor\u001B[49m\u001B[38;5;241;43m.\u001B[39;49m\u001B[43mauthor_id\u001B[49m\u001B[43m,\u001B[49m\n\u001B[1;32m    100\u001B[0m \u001B[43m                       \u001B[49m\u001B[43mjson\u001B[49m\u001B[38;5;241;43m.\u001B[39;49m\u001B[43mdumps\u001B[49m\u001B[43m(\u001B[49m\u001B[43mauthor\u001B[49m\u001B[38;5;241;43m.\u001B[39;49m\u001B[43mjason_dictionary\u001B[49m\u001B[43m)\u001B[49m\u001B[43m,\u001B[49m\n\u001B[1;32m    101\u001B[0m \u001B[43m                       \u001B[49m\u001B[43mauthor\u001B[49m\u001B[38;5;241;43m.\u001B[39;49m\u001B[43mname\u001B[49m\n\u001B[1;32m    102\u001B[0m \u001B[43m                       \u001B[49m\u001B[43m)\u001B[49m\n",
      "File \u001B[0;32m~/git/active/s2agr/src/s2agr/persistence/database_catalogue.py:139\u001B[0m, in \u001B[0;36mDatabaseCatalogue._write_author\u001B[0;34m(self, author_id, author_json_text, name)\u001B[0m\n\u001B[1;32m    135\u001B[0m \u001B[38;5;28;01mdef\u001B[39;00m \u001B[38;5;21m_write_author\u001B[39m(\u001B[38;5;28mself\u001B[39m, author_id: \u001B[38;5;28mstr\u001B[39m,\n\u001B[1;32m    136\u001B[0m                   author_json_text: \u001B[38;5;28mstr\u001B[39m,\n\u001B[1;32m    137\u001B[0m                   name: \u001B[38;5;28mstr\u001B[39m):\n\u001B[1;32m    138\u001B[0m     \u001B[38;5;28;01mwith\u001B[39;00m \u001B[38;5;28mself\u001B[39m\u001B[38;5;241m.\u001B[39mconnection\u001B[38;5;241m.\u001B[39mcursor() \u001B[38;5;28;01mas\u001B[39;00m cursor:\n\u001B[0;32m--> 139\u001B[0m         \u001B[43mcursor\u001B[49m\u001B[38;5;241;43m.\u001B[39;49m\u001B[43mexecute\u001B[49m\u001B[43m(\u001B[49m\u001B[38;5;28;43mself\u001B[39;49m\u001B[38;5;241;43m.\u001B[39;49m\u001B[43mINSERT_AUTHOR_SQL\u001B[49m\u001B[43m,\u001B[49m\u001B[43m \u001B[49m\u001B[43m(\u001B[49m\u001B[43mauthor_id\u001B[49m\u001B[43m,\u001B[49m\n\u001B[1;32m    140\u001B[0m \u001B[43m                                                \u001B[49m\u001B[43mauthor_json_text\u001B[49m\u001B[43m,\u001B[49m\n\u001B[1;32m    141\u001B[0m \u001B[43m                                                \u001B[49m\u001B[43mname\u001B[49m\u001B[43m)\u001B[49m\u001B[43m)\u001B[49m\n\u001B[1;32m    142\u001B[0m         \u001B[38;5;28mself\u001B[39m\u001B[38;5;241m.\u001B[39mconnection\u001B[38;5;241m.\u001B[39mcommit()\n",
      "\u001B[0;31mNotNullViolation\u001B[0m: null value in column \"author_id\" of relation \"author\" violates not-null constraint\nDETAIL:  Failing row contains (null, {\"url\": null, \"name\": \"Xiang Zhang\", \"hIndex\": null, \"aliases\": ..., 2023-03-17 21:21:45.097803, 2023-03-17 21:21:45.097803, Xiang Zhang, null).\n"
     ]
    }
   ],
   "source": [
    "paper_ids = librarian.find_papers_to_reseach(limit=10)\n",
    "monitor = librarian.monitor\n",
    "for paper_id in paper_ids:\n",
    "    monitor.info('reading %s' % paper_id)\n",
    "    paper =librarian.get_paper(paper_id)\n",
    "    monitor.info('read %s: %s' % (paper_id, paper.title))\n",
    "    librarian.add_influential_citations_for(paper_id)\n",
    "    monitor.info('linked %s: %s' % (paper_id, paper.title))"
   ]
  },
  {
   "cell_type": "code",
   "execution_count": 4,
   "outputs": [],
   "source": [
    "catalogue.connection.rollback()"
   ],
   "metadata": {
    "collapsed": false
   }
  },
  {
   "cell_type": "code",
   "execution_count": 4,
   "outputs": [],
   "source": [],
   "metadata": {
    "collapsed": false
   }
  }
 ],
 "metadata": {
  "kernelspec": {
   "display_name": "Python 3 (ipykernel)",
   "language": "python",
   "name": "python3"
  },
  "language_info": {
   "codemirror_mode": {
    "name": "ipython",
    "version": 3
   },
   "file_extension": ".py",
   "mimetype": "text/x-python",
   "name": "python",
   "nbconvert_exporter": "python",
   "pygments_lexer": "ipython3",
   "version": "3.8.10"
  }
 },
 "nbformat": 4,
 "nbformat_minor": 1
}
