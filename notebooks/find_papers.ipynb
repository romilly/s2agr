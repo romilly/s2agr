{
 "cells": [
  {
   "cell_type": "code",
   "execution_count": 12,
   "metadata": {
    "collapsed": true
   },
   "outputs": [],
   "source": [
    "import logging\n",
    "\n",
    "from s2agr.builder import Builder\n",
    "from s2agr.monitor import LoggingMonitor\n",
    "from s2agr.persistence.database_catalogue import DatabaseCatalogue, production_connection\n",
    "from s2agr.requester import ThrottledRequester\n",
    "from s2agr.researcher import WebResearcher"
   ]
  },
  {
   "cell_type": "code",
   "execution_count": 2,
   "metadata": {},
   "outputs": [],
   "source": [
    "connection = production_connection()\n",
    "catalogue = DatabaseCatalogue(connection)\n",
    "librarian = Builder().with_catalogue(catalogue).build()"
   ]
  },
  {
   "cell_type": "code",
   "execution_count": 10,
   "metadata": {},
   "outputs": [],
   "source": [
    "paper_ids = librarian.find_papers_to_reseach(limit=10)\n",
    "monitor = librarian.monitor\n",
    "for paper_id in paper_ids:\n",
    "    monitor.info('reading %s' % paper_id)\n",
    "    paper =librarian.get_paper(paper_id)\n",
    "    monitor.info('read %s: %s' % (paper_id, paper.title))\n",
    "    librarian.add_influential_citations_for(paper_id)\n",
    "    monitor.info('linked %s: %s' % (paper_id, paper.title))"
   ]
  },
  {
   "cell_type": "code",
   "execution_count": 4,
   "outputs": [],
   "source": [
    "catalogue.connection.rollback()"
   ],
   "metadata": {
    "collapsed": false
   }
  }
 ],
 "metadata": {
  "kernelspec": {
   "display_name": "Python 3 (ipykernel)",
   "language": "python",
   "name": "python3"
  },
  "language_info": {
   "codemirror_mode": {
    "name": "ipython",
    "version": 3
   },
   "file_extension": ".py",
   "mimetype": "text/x-python",
   "name": "python",
   "nbconvert_exporter": "python",
   "pygments_lexer": "ipython3",
   "version": "3.8.10"
  }
 },
 "nbformat": 4,
 "nbformat_minor": 1
}
