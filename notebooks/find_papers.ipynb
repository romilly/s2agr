{
 "cells": [
  {
   "cell_type": "code",
   "execution_count": 1,
   "metadata": {
    "collapsed": true
   },
   "outputs": [],
   "source": [
    "import logging\n",
    "\n",
    "from s2agr.builder import Builder\n",
    "from s2agr.monitor import LoggingMonitor\n",
    "from s2agr.persistence.database_catalogue import DatabaseCatalogue, production_connection"
   ]
  },
  {
   "cell_type": "code",
   "execution_count": 2,
   "outputs": [],
   "source": [
    "connection = production_connection()\n",
    "catalogue = DatabaseCatalogue(connection)\n",
    "librarian = Builder().with_catalogue(catalogue).with_monitor(LoggingMonitor(log_level=logging.DEBUG)).build()"
   ],
   "metadata": {
    "collapsed": false
   }
  },
  {
   "cell_type": "code",
   "execution_count": 6,
   "outputs": [
    {
     "ename": "AttributeError",
     "evalue": "'Paper' object has no attribute 'citations'",
     "output_type": "error",
     "traceback": [
      "\u001B[0;31m---------------------------------------------------------------------------\u001B[0m",
      "\u001B[0;31mAttributeError\u001B[0m                            Traceback (most recent call last)",
      "Cell \u001B[0;32mIn[6], line 4\u001B[0m\n\u001B[1;32m      2\u001B[0m \u001B[38;5;28;01mfor\u001B[39;00m paper_id \u001B[38;5;129;01min\u001B[39;00m paper_ids:\n\u001B[1;32m      3\u001B[0m     paper \u001B[38;5;241m=\u001B[39mlibrarian\u001B[38;5;241m.\u001B[39mget_paper(paper_id)\n\u001B[0;32m----> 4\u001B[0m     \u001B[43mlibrarian\u001B[49m\u001B[38;5;241;43m.\u001B[39;49m\u001B[43madd_citations_and_references\u001B[49m\u001B[43m(\u001B[49m\u001B[43mpaper\u001B[49m\u001B[43m)\u001B[49m\n",
      "File \u001B[0;32m~/git/active/s2agr/src/s2agr/librarian.py:93\u001B[0m, in \u001B[0;36mLibrarian.add_citations_and_references\u001B[0;34m(self, paper)\u001B[0m\n\u001B[1;32m     92\u001B[0m \u001B[38;5;28;01mdef\u001B[39;00m \u001B[38;5;21madd_citations_and_references\u001B[39m(\u001B[38;5;28mself\u001B[39m, paper):\n\u001B[0;32m---> 93\u001B[0m     citations \u001B[38;5;241m=\u001B[39m (Citation(paper\u001B[38;5;241m.\u001B[39mpaper_id, cj[\u001B[38;5;124m'\u001B[39m\u001B[38;5;124mpaperId\u001B[39m\u001B[38;5;124m'\u001B[39m], cj[\u001B[38;5;124m'\u001B[39m\u001B[38;5;124mtitle\u001B[39m\u001B[38;5;124m'\u001B[39m]) \u001B[38;5;28;01mfor\u001B[39;00m cj \u001B[38;5;129;01min\u001B[39;00m \u001B[43mpaper\u001B[49m\u001B[38;5;241;43m.\u001B[39;49m\u001B[43mcitations\u001B[49m)\n\u001B[1;32m     94\u001B[0m     \u001B[38;5;28;01mfor\u001B[39;00m citation \u001B[38;5;129;01min\u001B[39;00m citations:\n\u001B[1;32m     95\u001B[0m         \u001B[38;5;28;01mif\u001B[39;00m citation\u001B[38;5;241m.\u001B[39mciting_id \u001B[38;5;129;01mis\u001B[39;00m \u001B[38;5;28;01mNone\u001B[39;00m:\n",
      "\u001B[0;31mAttributeError\u001B[0m: 'Paper' object has no attribute 'citations'"
     ]
    }
   ],
   "source": [
    "paper_ids = librarian.find_papers_to_reseach(limit=3)\n",
    "for paper_id in paper_ids:\n",
    "    paper =librarian.get_paper(paper_id)\n",
    "    librarian.add_citations_and_references(paper)\n"
   ],
   "metadata": {
    "collapsed": false
   }
  },
  {
   "cell_type": "code",
   "execution_count": 3,
   "outputs": [],
   "source": [],
   "metadata": {
    "collapsed": false
   }
  }
 ],
 "metadata": {
  "kernelspec": {
   "display_name": "Python 3",
   "language": "python",
   "name": "python3"
  },
  "language_info": {
   "codemirror_mode": {
    "name": "ipython",
    "version": 2
   },
   "file_extension": ".py",
   "mimetype": "text/x-python",
   "name": "python",
   "nbconvert_exporter": "python",
   "pygments_lexer": "ipython2",
   "version": "2.7.6"
  }
 },
 "nbformat": 4,
 "nbformat_minor": 0
}
