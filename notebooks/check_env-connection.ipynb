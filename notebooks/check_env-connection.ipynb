{
 "cells": [
  {
   "cell_type": "code",
   "execution_count": 1,
   "metadata": {
    "collapsed": true,
    "pycharm": {
     "name": "#%%\n"
    }
   },
   "outputs": [],
   "source": [
    "import json\n",
    "from s2ag.persistence.parser import get_connection\n",
    "from psycopg2 import connect\n",
    "from s2ag.requester import WebRequester\n",
    "from s2ag.researcher import Researcher"
   ]
  },
  {
   "cell_type": "code",
   "execution_count": 2,
   "outputs": [],
   "source": [
    "researcher = Researcher(WebRequester())"
   ],
   "metadata": {
    "collapsed": false,
    "pycharm": {
     "name": "#%%\n"
    }
   }
  },
  {
   "cell_type": "code",
   "execution_count": 8,
   "outputs": [],
   "source": [
    "paper_id = '649def34f8be52c8b66281af98ae884c09aef38b'\n",
    "paper = researcher.get_paper(paper_id)"
   ],
   "metadata": {
    "collapsed": false,
    "pycharm": {
     "name": "#%%\n"
    }
   }
  },
  {
   "cell_type": "code",
   "execution_count": 9,
   "outputs": [
    {
     "data": {
      "text/plain": "<s2ag.paper.Paper at 0x7f2685495850>"
     },
     "execution_count": 9,
     "metadata": {},
     "output_type": "execute_result"
    }
   ],
   "source": [
    "paper"
   ],
   "metadata": {
    "collapsed": false,
    "pycharm": {
     "name": "#%%\n"
    }
   }
  },
  {
   "cell_type": "code",
   "execution_count": 10,
   "outputs": [
    {
     "data": {
      "text/plain": "'{\"paperId\": \"649def34f8be52c8b66281af98ae884c09aef38b\", \"externalIds\": {\"DBLP\": \"conf/naacl/AmmarGBBCDDEFHK18\", \"MAG\": \"2952867657\", \"ACL\": \"N18-3011\", \"ArXiv\": \"1805.02262\", \"DOI\": \"10.18653/v1/N18-3011\", \"CorpusId\": 19170988}, \"publicationVenue\": {\"id\": \"01103732-3808-4930-b8e4-7e9e68d5c68d\", \"name\": \"North American Chapter of the Association for Computational Linguistics\", \"type\": \"conference\", \"alternate_names\": [\"North Am Chapter Assoc Comput Linguistics\", \"NAACL\"], \"url\": \"https://www.aclweb.org/portal/naacl\"}, \"url\": \"https://www.semanticscholar.org/paper/649def34f8be52c8b66281af98ae884c09aef38b\", \"title\": \"Construction of the Literature Graph in Semantic Scholar\", \"abstract\": \"We describe a deployed scalable system for organizing published scientific literature into a heterogeneous graph to facilitate algorithmic manipulation and discovery. The resulting literature graph consists of more than 280M nodes, representing papers, authors, entities and various interactions between them (e.g., authorships, citations, entity mentions). We reduce literature graph construction into familiar NLP tasks (e.g., entity extraction and linking), point out research challenges due to differences from standard formulations of these tasks, and report empirical results for each task. The methods described in this paper are used to enable semantic features in www.semanticscholar.org.\", \"venue\": \"North American Chapter of the Association for Computational Linguistics\", \"year\": 2018, \"referenceCount\": 27, \"citationCount\": 286, \"influentialCitationCount\": 32, \"isOpenAccess\": true, \"openAccessPdf\": {\"url\": \"https://www.aclweb.org/anthology/N18-3011.pdf\", \"status\": \"HYBRID\"}, \"fieldsOfStudy\": [\"Computer Science\"], \"s2FieldsOfStudy\": [{\"category\": \"Computer Science\", \"source\": \"external\"}, {\"category\": \"Computer Science\", \"source\": \"s2-fos-model\"}], \"publicationTypes\": [\"JournalArticle\", \"Conference\"], \"publicationDate\": \"2018-05-06\", \"journal\": {\"pages\": \"84-91\"}, \"citationStyles\": {\"bibtex\": \"@[\\'JournalArticle\\', \\'Conference\\']{Ammar2018ConstructionOT,\\\\n author = {Waleed Ammar and Dirk Groeneveld and Chandra Bhagavatula and Iz Beltagy and Miles Crawford and Doug Downey and Jason Dunkelberger and Ahmed Elgohary and Sergey Feldman and Vu A. Ha and Rodney Michael Kinney and Sebastian Kohlmeier and Kyle Lo and Tyler C. Murray and Hsu-Han Ooi and Matthew E. Peters and Joanna L. Power and Sam Skjonsberg and Lucy Lu Wang and Christopher Wilhelm and Zheng Yuan and Madeleine van Zuylen and Oren Etzioni},\\\\n booktitle = {North American Chapter of the Association for Computational Linguistics},\\\\n pages = {84-91},\\\\n title = {Construction of the Literature Graph in Semantic Scholar},\\\\n year = {2018}\\\\n}\\\\n\"}, \"authors\": [{\"authorId\": \"145585097\", \"name\": \"Waleed Ammar\"}, {\"authorId\": \"3458736\", \"name\": \"Dirk Groeneveld\"}, {\"authorId\": \"1857797\", \"name\": \"Chandra Bhagavatula\"}, {\"authorId\": \"46181066\", \"name\": \"Iz Beltagy\"}, {\"authorId\": \"46230609\", \"name\": \"Miles Crawford\"}, {\"authorId\": \"145612610\", \"name\": \"Doug Downey\"}, {\"authorId\": \"38092776\", \"name\": \"Jason Dunkelberger\"}, {\"authorId\": \"143718836\", \"name\": \"Ahmed Elgohary\"}, {\"authorId\": \"46411828\", \"name\": \"Sergey Feldman\"}, {\"authorId\": \"4480314\", \"name\": \"Vu A. Ha\"}, {\"authorId\": \"143967880\", \"name\": \"Rodney Michael Kinney\"}, {\"authorId\": \"41018147\", \"name\": \"Sebastian Kohlmeier\"}, {\"authorId\": \"46258841\", \"name\": \"Kyle Lo\"}, {\"authorId\": \"144240185\", \"name\": \"Tyler C. Murray\"}, {\"authorId\": \"46256862\", \"name\": \"Hsu-Han Ooi\"}, {\"authorId\": \"39139825\", \"name\": \"Matthew E. Peters\"}, {\"authorId\": \"39561369\", \"name\": \"Joanna L. Power\"}, {\"authorId\": \"46181683\", \"name\": \"Sam Skjonsberg\"}, {\"authorId\": \"31860505\", \"name\": \"Lucy Lu Wang\"}, {\"authorId\": \"46212260\", \"name\": \"Christopher Wilhelm\"}, {\"authorId\": \"2112339497\", \"name\": \"Zheng Yuan\"}, {\"authorId\": \"15292561\", \"name\": \"Madeleine van Zuylen\"}, {\"authorId\": \"1741101\", \"name\": \"Oren Etzioni\"}]}'"
     },
     "execution_count": 10,
     "metadata": {},
     "output_type": "execute_result"
    }
   ],
   "source": [
    "\n",
    "s2ag_json_text = json.dumps(paper.jason_dictionary)\n",
    "s2ag_json_text"
   ],
   "metadata": {
    "collapsed": false,
    "pycharm": {
     "name": "#%%\n"
    }
   }
  },
  {
   "cell_type": "code",
   "execution_count": 11,
   "outputs": [],
   "source": [
    "title = paper.title\n",
    "pub_year = paper.year"
   ],
   "metadata": {
    "collapsed": false,
    "pycharm": {
     "name": "#%%\n"
    }
   }
  },
  {
   "cell_type": "code",
   "execution_count": 14,
   "outputs": [
    {
     "data": {
      "text/plain": "\"dbname='ssag2_test2' user='romilly' host='127.0.0.1' password='simple-scholar'\""
     },
     "execution_count": 14,
     "metadata": {},
     "output_type": "execute_result"
    }
   ],
   "source": [
    "spec = get_connection('TEST_DB', '../sql/.env')\n",
    "spec"
   ],
   "metadata": {
    "collapsed": false,
    "pycharm": {
     "name": "#%%\n"
    }
   }
  },
  {
   "cell_type": "code",
   "execution_count": 15,
   "outputs": [],
   "source": [
    "connection = connect(spec)"
   ],
   "metadata": {
    "collapsed": false,
    "pycharm": {
     "name": "#%%\n"
    }
   }
  },
  {
   "cell_type": "code",
   "execution_count": 16,
   "outputs": [],
   "source": [
    "INSERT_SQL = \"INSERT into paper(paper_id, s2ag_json_text, title, pub_year)\" \\\n",
    "                 \" VALUES (%s, %s, %s, %s) ON CONFLICT DO NOTHING\""
   ],
   "metadata": {
    "collapsed": false,
    "pycharm": {
     "name": "#%%\n"
    }
   }
  },
  {
   "cell_type": "code",
   "execution_count": 17,
   "outputs": [],
   "source": [
    "cursor = connection.cursor()"
   ],
   "metadata": {
    "collapsed": false,
    "pycharm": {
     "name": "#%%\n"
    }
   }
  },
  {
   "cell_type": "code",
   "execution_count": 18,
   "outputs": [],
   "source": [
    "cursor.execute(INSERT_SQL, (paper_id, s2ag_json_text, title, pub_year))"
   ],
   "metadata": {
    "collapsed": false,
    "pycharm": {
     "name": "#%%\n"
    }
   }
  },
  {
   "cell_type": "code",
   "execution_count": 19,
   "outputs": [],
   "source": [
    "connection.commit()"
   ],
   "metadata": {
    "collapsed": false,
    "pycharm": {
     "name": "#%%\n"
    }
   }
  },
  {
   "cell_type": "code",
   "execution_count": 20,
   "outputs": [],
   "source": [
    "cursor.close()\n",
    "connection.close()"
   ],
   "metadata": {
    "collapsed": false,
    "pycharm": {
     "name": "#%%\n"
    }
   }
  },
  {
   "cell_type": "code",
   "execution_count": null,
   "outputs": [],
   "source": [],
   "metadata": {
    "collapsed": false,
    "pycharm": {
     "name": "#%%\n"
    }
   }
  }
 ],
 "metadata": {
  "kernelspec": {
   "display_name": "Python 3",
   "language": "python",
   "name": "python3"
  },
  "language_info": {
   "codemirror_mode": {
    "name": "ipython",
    "version": 2
   },
   "file_extension": ".py",
   "mimetype": "text/x-python",
   "name": "python",
   "nbconvert_exporter": "python",
   "pygments_lexer": "ipython2",
   "version": "2.7.6"
  }
 },
 "nbformat": 4,
 "nbformat_minor": 0
}