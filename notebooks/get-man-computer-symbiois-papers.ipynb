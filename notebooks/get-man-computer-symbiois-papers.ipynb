{
 "cells": [
  {
   "cell_type": "code",
   "execution_count": 1,
   "id": "77d08a6a327bfc69",
   "metadata": {
    "collapsed": true,
    "ExecuteTime": {
     "end_time": "2023-11-10T12:52:20.661469092Z",
     "start_time": "2023-11-10T12:52:20.473762799Z"
    }
   },
   "outputs": [],
   "source": [
    "import requests\n",
    "import sqlite3\n",
    "import pandas as pd\n",
    "import time"
   ]
  },
  {
   "cell_type": "code",
   "execution_count": 5,
   "outputs": [],
   "source": [
    "\n",
    "# Load CSV file\n",
    "df = pd.read_csv('/home/romilly/git/active/s2agr/data/ai-papers-from-man-computer-symbiosis.csv')"
   ],
   "metadata": {
    "collapsed": false,
    "ExecuteTime": {
     "end_time": "2023-11-10T13:00:24.206527953Z",
     "start_time": "2023-11-10T13:00:24.202597515Z"
    }
   },
   "id": "13c3c86b0412e7ea"
  },
  {
   "cell_type": "code",
   "execution_count": 6,
   "outputs": [
    {
     "data": {
      "text/plain": "<sqlite3.Cursor at 0x7fb9bf59e4c0>"
     },
     "execution_count": 6,
     "metadata": {},
     "output_type": "execute_result"
    }
   ],
   "source": [
    "\n",
    "# Set up the SQLite database\n",
    "conn = sqlite3.connect('papers_database.db')\n",
    "c = conn.cursor()\n",
    "\n",
    "# Create table\n",
    "c.execute('''CREATE TABLE papers \n",
    "             (authors TEXT, title TEXT, year INTEGER, tldr TEXT, pdf_url TEXT, abstract TEXT)''')"
   ],
   "metadata": {
    "collapsed": false,
    "ExecuteTime": {
     "end_time": "2023-11-10T13:00:28.110486043Z",
     "start_time": "2023-11-10T13:00:27.893376803Z"
    }
   },
   "id": "434831965bcfb834"
  },
  {
   "cell_type": "code",
   "execution_count": 7,
   "outputs": [
    {
     "ename": "KeyboardInterrupt",
     "evalue": "",
     "output_type": "error",
     "traceback": [
      "\u001B[0;31m---------------------------------------------------------------------------\u001B[0m",
      "\u001B[0;31mKeyboardInterrupt\u001B[0m                         Traceback (most recent call last)",
      "Cell \u001B[0;32mIn[7], line 26\u001B[0m\n\u001B[1;32m     23\u001B[0m         conn\u001B[38;5;241m.\u001B[39mcommit()\n\u001B[1;32m     25\u001B[0m     \u001B[38;5;66;03m# Respect the rate limit\u001B[39;00m\n\u001B[0;32m---> 26\u001B[0m     \u001B[43mtime\u001B[49m\u001B[38;5;241;43m.\u001B[39;49m\u001B[43msleep\u001B[49m\u001B[43m(\u001B[49m\u001B[38;5;241;43m5\u001B[39;49m\u001B[43m)\u001B[49m  \u001B[38;5;66;03m# Adjust based on the API's rate limit\u001B[39;00m\n\u001B[1;32m     28\u001B[0m \u001B[38;5;66;03m# Close the connection\u001B[39;00m\n\u001B[1;32m     29\u001B[0m conn\u001B[38;5;241m.\u001B[39mclose()\n",
      "\u001B[0;31mKeyboardInterrupt\u001B[0m: "
     ]
    }
   ],
   "source": [
    "\n",
    "# Semantic Scholar API base URL\n",
    "api_url = 'https://api.semanticscholar.org/graph/v1/paper/search'\n",
    "\n",
    "# Iterate over rows in the DataFrame\n",
    "for index, row in df.iterrows():\n",
    "    # Prepare API request (modify as needed based on the API documentation)\n",
    "    payload = {'query': row['Title of Paper'], 'fields': 'title,authors,year,abstract,url,tldr'}\n",
    "    response = requests.get(api_url, params=payload)\n",
    "\n",
    "    if response.status_code == 200:\n",
    "        data = response.json()\n",
    "\n",
    "        # Extract the relevant data (modify based on the actual structure of the response)\n",
    "        tldr = data.get('tldr', '')\n",
    "        pdf_url = data.get('pdf_url', '')\n",
    "        abstract = data.get('abstract', '')\n",
    "\n",
    "        # Insert into the database\n",
    "        c.execute(\"INSERT INTO papers VALUES (?, ?, ?, ?, ?, ?)\",\n",
    "                  (row['Author(s)'], row['Title of Paper'], row['Year of Publication'], tldr, pdf_url, abstract))\n",
    "\n",
    "        # Commit after each insertion\n",
    "        conn.commit()\n",
    "\n",
    "    # Respect the rate limit\n",
    "    time.sleep(5)  # Adjust based on the API's rate limit\n",
    "\n",
    "# Close the connection\n",
    "conn.close()\n"
   ],
   "metadata": {
    "collapsed": false,
    "ExecuteTime": {
     "end_time": "2023-11-10T13:01:47.538998509Z",
     "start_time": "2023-11-10T13:00:34.066744671Z"
    }
   },
   "id": "initial_id"
  },
  {
   "cell_type": "code",
   "execution_count": null,
   "outputs": [],
   "source": [],
   "metadata": {
    "collapsed": false
   },
   "id": "f5cf5b361e38f58d"
  }
 ],
 "metadata": {
  "kernelspec": {
   "display_name": "Python 3",
   "language": "python",
   "name": "python3"
  },
  "language_info": {
   "codemirror_mode": {
    "name": "ipython",
    "version": 2
   },
   "file_extension": ".py",
   "mimetype": "text/x-python",
   "name": "python",
   "nbconvert_exporter": "python",
   "pygments_lexer": "ipython2",
   "version": "2.7.6"
  }
 },
 "nbformat": 4,
 "nbformat_minor": 5
}
