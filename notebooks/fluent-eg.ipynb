{
 "cells": [
  {
   "cell_type": "code",
   "execution_count": 5,
   "metadata": {
    "pycharm": {
     "name": "#%%\n"
    }
   },
   "outputs": [
    {
     "data": {
      "text/plain": [
       "{'paperId': '649def34f8be52c8b66281af98ae884c09aef38b',\n",
       " 'title': 'Construction of the Literature Graph in Semantic Scholar'}"
      ]
     },
     "execution_count": 5,
     "metadata": {},
     "output_type": "execute_result"
    }
   ],
   "source": [
    "import requests\n",
    "response = requests.get('https://api.semanticscholar.org/graph/v1/paper/649def34f8be52c8b66281af98ae884c09aef38b')\n",
    "response.json()"
   ]
  },
  {
   "cell_type": "code",
   "execution_count": 15,
   "metadata": {
    "pycharm": {
     "name": "#%%\n"
    }
   },
   "outputs": [],
   "source": [
    "response = requests.get('https://api.semanticscholar.org/graph/v1/paper/search?query=covid+vaccination&year=2020-2023&fieldsOfStudy=Physics,Philosophy&fields=title,year,authors&offset=10&limit=2')"
   ]
  },
  {
   "cell_type": "code",
   "execution_count": 16,
   "metadata": {
    "pycharm": {
     "name": "#%%\n"
    }
   },
   "outputs": [
    {
     "data": {
      "text/plain": [
       "{'total': 12964,\n",
       " 'offset': 10,\n",
       " 'next': 12,\n",
       " 'data': [{'paperId': '7e5c556e0f816787d7b58e73ceb0b462a2c6fe94',\n",
       "   'title': 'Evolution of the public opinion on COVID-19 vaccination in Japan',\n",
       "   'year': 2022,\n",
       "   'authors': [{'authorId': '2150512062', 'name': 'Yuri Nakayama'},\n",
       "    {'authorId': '2149928333', 'name': 'Yuka Takedomi'},\n",
       "    {'authorId': '2179001172', 'name': 'Towa Suda'},\n",
       "    {'authorId': '1713302', 'name': 'T. Uno'},\n",
       "    {'authorId': '1872742', 'name': 'T. Hashimoto'},\n",
       "    {'authorId': '2361778', 'name': 'M. Toyoda'},\n",
       "    {'authorId': '34849332', 'name': 'Naoki Yoshinaga'},\n",
       "    {'authorId': '1716799', 'name': 'M. Kitsuregawa'},\n",
       "    {'authorId': '2056617242', 'name': 'L. E. Rocha'},\n",
       "    {'authorId': '1682202847', 'name': 'Ryota Kobayashi'}]},\n",
       "  {'paperId': 'd488f48727b10ec6256dfacabda052e926d8fc48',\n",
       "   'title': 'A Case of Leukocytoclastic Vasculitis Following COVID-19 Vaccination',\n",
       "   'year': 2022,\n",
       "   'authors': [{'authorId': '31523140', 'name': 'Y. Ryoo'},\n",
       "    {'authorId': '2107918183', 'name': 'Yu-Sin Kim'},\n",
       "    {'authorId': '2117607984', 'name': 'Ji-Min Yun'},\n",
       "    {'authorId': '4851419', 'name': 'Sung-Ae Kim'}]}]}"
      ]
     },
     "execution_count": 16,
     "metadata": {},
     "output_type": "execute_result"
    }
   ],
   "source": [
    "response.json()"
   ]
  },
  {
   "cell_type": "code",
   "execution_count": null,
   "metadata": {
    "pycharm": {
     "name": "#%%\n"
    }
   },
   "outputs": [],
   "source": []
  }
 ],
 "metadata": {
  "kernelspec": {
   "display_name": "Python 3 (ipykernel)",
   "language": "python",
   "name": "python3"
  },
  "language_info": {
   "codemirror_mode": {
    "name": "ipython",
    "version": 3
   },
   "file_extension": ".py",
   "mimetype": "text/x-python",
   "name": "python",
   "nbconvert_exporter": "python",
   "pygments_lexer": "ipython3",
   "version": "3.8.10"
  }
 },
 "nbformat": 4,
 "nbformat_minor": 1
}