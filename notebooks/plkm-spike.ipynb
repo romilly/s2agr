{
 "cells": [
  {
   "cell_type": "code",
   "execution_count": 1,
   "metadata": {
    "collapsed": true,
    "pycharm": {
     "name": "#%%\n"
    }
   },
   "outputs": [],
   "source": [
    "from s2ag.librarian import Librarian, WebResearcher\n",
    "from s2ag.persistence.database_catalogue import DatabaseCatalogue, test_connection\n",
    "from s2ag.requester import ThrottledRequester\n",
    "import jinja2\n",
    "import tagme\n",
    "import requests\n",
    "from secrets.tag_me import TOKEN\n",
    "from io import StringIO"
   ]
  },
  {
   "cell_type": "code",
   "execution_count": 2,
   "outputs": [],
   "source": [
    "requester = ThrottledRequester()\n",
    "catalogue = DatabaseCatalogue(test_connection())\n",
    "librarian = Librarian(WebResearcher(requester), catalogue)\n",
    "tagme.GCUBE_TOKEN = TOKEN"
   ],
   "metadata": {
    "collapsed": false,
    "pycharm": {
     "name": "#%%\n"
    }
   }
  },
  {
   "cell_type": "code",
   "execution_count": 3,
   "outputs": [],
   "source": [
    "def apply(text, annotations):\n",
    "    annotated = StringIO()\n",
    "    current_position = 0\n",
    "    for annotation in annotations.get_annotations(0.1):\n",
    "        next_position = annotation.begin\n",
    "        annotated.write(text[current_position:next_position])\n",
    "        annotated_text = text[next_position:annotation.end]\n",
    "        link = tagme.title_to_uri(annotation.entity_title)\n",
    "        annotated.write(f'[{annotated_text}]({link})')\n",
    "        current_position = annotation.end\n",
    "    result = annotated.getvalue()\n",
    "    annotated.close()\n",
    "    return result\n"
   ],
   "metadata": {
    "collapsed": false,
    "pycharm": {
     "name": "#%%\n"
    }
   }
  },
  {
   "cell_type": "code",
   "execution_count": 4,
   "outputs": [],
   "source": [
    "environment = jinja2.Environment()"
   ],
   "metadata": {
    "collapsed": false,
    "pycharm": {
     "name": "#%%\n"
    }
   }
  },
  {
   "cell_type": "code",
   "execution_count": 23,
   "outputs": [],
   "source": [
    "template_string = \"\"\"\n",
    "**Title: {{ title }}**\n",
    "\n",
    "*Year:  {{ year  }}*\n",
    "\n",
    "*publication date {{ pub_date }}*\n",
    "\n",
    "*Journal: {{ journal }}*\n",
    "\n",
    "*influential citations: {{ icc }}*\n",
    "\n",
    "**Abstract:** {{ abstract }}\n",
    "\n",
    "**Authors:** {{ authors }}\n",
    "\n",
    "{{ url }}\n",
    "\n",
    "**PDF:** [{{ title }}]({{ pdf_url }})\n",
    "\"\"\""
   ],
   "metadata": {
    "collapsed": false,
    "pycharm": {
     "name": "#%%\n"
    }
   }
  },
  {
   "cell_type": "code",
   "execution_count": 24,
   "outputs": [],
   "source": [
    "def make_page(pid: str):\n",
    "    paper = librarian.get_paper(pid)\n",
    "    page = f'{paper.title} ({pid})'\n",
    "    template = environment.from_string(template_string)\n",
    "    abstract_annotation = tagme.annotate(paper.abstract)\n",
    "    abstract = apply(paper.abstract, abstract_annotation)\n",
    "    md = template.render(title = paper.title,\n",
    "                    year = paper.year,\n",
    "                    pub_date = paper.publication_date,\n",
    "                    journal = paper.journal['name'],\n",
    "                    icc = paper.influential_citation_count,\n",
    "                    abstract = abstract,\n",
    "                    authors = ', '.join(entry['name'] for entry in paper.authors),\n",
    "                    url = paper.url,\n",
    "                    pdf_url = paper.open_access_pdf['url'])\n",
    "    with open('%s.md' % page,'w') as p:\n",
    "        p.write(md)"
   ],
   "metadata": {
    "collapsed": false,
    "pycharm": {
     "name": "#%%\n"
    }
   }
  },
  {
   "cell_type": "code",
   "execution_count": 25,
   "outputs": [],
   "source": [
    "# make_page('649def34f8be52c8b66281af98ae884c09aef38b')\n",
    "make_page('df816eae80d0da4fe2e6d58c70a51ac6e4124bfd')"
   ],
   "metadata": {
    "collapsed": false,
    "pycharm": {
     "name": "#%%\n"
    }
   }
  },
  {
   "cell_type": "code",
   "execution_count": 7,
   "outputs": [],
   "source": [],
   "metadata": {
    "collapsed": false,
    "pycharm": {
     "name": "#%%\n"
    }
   }
  }
 ],
 "metadata": {
  "kernelspec": {
   "display_name": "Python 3",
   "language": "python",
   "name": "python3"
  },
  "language_info": {
   "codemirror_mode": {
    "name": "ipython",
    "version": 2
   },
   "file_extension": ".py",
   "mimetype": "text/x-python",
   "name": "python",
   "nbconvert_exporter": "python",
   "pygments_lexer": "ipython2",
   "version": "2.7.6"
  }
 },
 "nbformat": 4,
 "nbformat_minor": 0
}