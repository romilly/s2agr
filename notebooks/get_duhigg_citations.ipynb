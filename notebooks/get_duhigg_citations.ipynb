{
 "cells": [
  {
   "cell_type": "code",
   "execution_count": 9,
   "metadata": {
    "collapsed": true
   },
   "outputs": [],
   "source": [
    "import logging\n",
    "\n",
    "from s2agr.builder import Builder\n",
    "from s2agr.monitor import LoggingMonitor\n",
    "from s2agr.persistence.database_catalogue import DatabaseCatalogue, production_connection\n",
    "from s2agr.persistence.database_catalogue import count_rows"
   ]
  },
  {
   "cell_type": "code",
   "execution_count": 2,
   "outputs": [],
   "source": [
    "connection = production_connection()\n",
    "catalogue = DatabaseCatalogue(connection)\n",
    "librarian = Builder().with_catalogue(catalogue).with_monitor(LoggingMonitor(log_level=logging.DEBUG)).build()"
   ],
   "metadata": {
    "collapsed": false
   }
  },
  {
   "cell_type": "code",
   "execution_count": 3,
   "outputs": [],
   "source": [
    "query = \"\"\"\n",
    "select paper.paper_id, title from paper, author, wrote where author_name = 'Charles Duhigg' and\n",
    "    paper.paper_id = wrote.paper_id and author.author_id = wrote.author_id\n",
    "\"\"\"\n",
    "papers = catalogue.query(query)\n",
    "paper_ids = list(paper[0] for paper in papers)"
   ],
   "metadata": {
    "collapsed": false
   }
  },
  {
   "cell_type": "code",
   "execution_count": 4,
   "outputs": [
    {
     "data": {
      "text/plain": "['632218ee4d47598d24d816ebab841e56e10de3f6',\n '6b5461710f68e2740da8da05807b6779ef879f30',\n '770651a173ac74047a4219edab0b21f542566abd',\n 'd0521d57fdce867d69dc18bc0d58fa9aaa03cc35',\n 'e52eb167a5cfb9592f04ef910bc118470e6422e2',\n 'eec14b112cbe570cefe6cb0ac5d760a86d818b42',\n 'f14a947ff823488e10bc5bfcaa0812617b392a43',\n 'f51507a0551786290d633fad87bd7d9a8d936db9']"
     },
     "execution_count": 4,
     "metadata": {},
     "output_type": "execute_result"
    }
   ],
   "source": [
    "paper_ids"
   ],
   "metadata": {
    "collapsed": false
   }
  },
  {
   "cell_type": "code",
   "execution_count": 5,
   "outputs": [],
   "source": [
    "papers = librarian.get_papers(*paper_ids)"
   ],
   "metadata": {
    "collapsed": false
   }
  },
  {
   "cell_type": "code",
   "execution_count": 6,
   "outputs": [
    {
     "data": {
      "text/plain": "<generator object Librarian.get_papers.<locals>.<genexpr> at 0x7fd807696200>"
     },
     "execution_count": 6,
     "metadata": {},
     "output_type": "execute_result"
    }
   ],
   "source": [
    "papers"
   ],
   "metadata": {
    "collapsed": false
   }
  },
  {
   "cell_type": "code",
   "execution_count": 7,
   "outputs": [
    {
     "name": "stdout",
     "output_type": "stream",
     "text": [
      "The Power of Habit: Why We Do What We Do in Life and Business\n",
      "The Power of Habit: Why We Do What We Do, and How to Change\n",
      "In Pursuit of Nissan, Jobs Lesson for the Tech Industry?\n",
      "How Companies Learn Your Secrets\n",
      "Smarter Faster Better: The Secrets of Being Productive in Life and Business\n",
      "Dr. Elon & Mr. Musk\n",
      "Annals of Epidemiology\n",
      "28. In China, Human Costs Are Built Into an iPad\n"
     ]
    }
   ],
   "source": [
    "for paper in papers:\n",
    "    print(paper.title)\n",
    "    librarian.add_citations_and_references(paper)"
   ],
   "metadata": {
    "collapsed": false
   }
  },
  {
   "cell_type": "code",
   "execution_count": 22,
   "outputs": [],
   "source": [
    "\n",
    "for paper_id in paper_ids:\n",
    "    citing_ids = [row[0] for row in list(catalogue.query('select citing_id from citation where cited_id = (%s)', (paper_id,)))]\n",
    "    # print(citing_ids)\n",
    "    librarian.get_papers(*citing_ids)\n",
    "    # print(paper_id, count_rows(connection.cursor(), 'cited_id', 'citation', paper_id))\n"
   ],
   "metadata": {
    "collapsed": false
   }
  },
  {
   "cell_type": "code",
   "execution_count": 21,
   "outputs": [],
   "source": [
    "connection.rollback()"
   ],
   "metadata": {
    "collapsed": false
   }
  },
  {
   "cell_type": "code",
   "execution_count": null,
   "outputs": [],
   "source": [],
   "metadata": {
    "collapsed": false
   }
  }
 ],
 "metadata": {
  "kernelspec": {
   "display_name": "Python 3",
   "language": "python",
   "name": "python3"
  },
  "language_info": {
   "codemirror_mode": {
    "name": "ipython",
    "version": 2
   },
   "file_extension": ".py",
   "mimetype": "text/x-python",
   "name": "python",
   "nbconvert_exporter": "python",
   "pygments_lexer": "ipython2",
   "version": "2.7.6"
  }
 },
 "nbformat": 4,
 "nbformat_minor": 0
}
