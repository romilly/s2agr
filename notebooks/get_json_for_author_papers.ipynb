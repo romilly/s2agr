{
 "cells": [
  {
   "cell_type": "code",
   "execution_count": 5,
   "metadata": {
    "collapsed": true
   },
   "outputs": [],
   "source": [
    "import json\n",
    "from s2agr.requester import ThrottledRequester\n",
    "from s2agr.researcher import WebResearcher"
   ]
  },
  {
   "cell_type": "code",
   "execution_count": 6,
   "outputs": [],
   "source": [
    "researcher = WebResearcher(ThrottledRequester())"
   ],
   "metadata": {
    "collapsed": false
   }
  },
  {
   "cell_type": "code",
   "execution_count": 3,
   "outputs": [],
   "source": [
    "\n",
    "papers = researcher.get_authored_papers_by('6499892')"
   ],
   "metadata": {
    "collapsed": false
   }
  },
  {
   "cell_type": "code",
   "execution_count": 4,
   "outputs": [],
   "source": [
    "with open('author_papers_01.json','w') as jf:\n",
    "        jf.write('[\\n')\n",
    "        paper_json = ((json.dumps(paper.jason_dictionary)) for paper in papers)\n",
    "        jf.write(',\\n'.join(paper_json))\n",
    "        jf.write('\\n]')\n"
   ],
   "metadata": {
    "collapsed": false
   }
  },
  {
   "cell_type": "code",
   "execution_count": 7,
   "outputs": [],
   "source": [
    "papers = researcher.get_authored_papers_by('2088543397') # Bo Fu\n"
   ],
   "metadata": {
    "collapsed": false
   }
  },
  {
   "cell_type": "code",
   "execution_count": 8,
   "outputs": [],
   "source": [
    "with open('author_papers_02.json','w') as jf:\n",
    "        jf.write('[\\n')\n",
    "        paper_json = ((json.dumps(paper.jason_dictionary)) for paper in papers)\n",
    "        jf.write(',\\n'.join(paper_json))\n",
    "        jf.write('\\n]')"
   ],
   "metadata": {
    "collapsed": false
   }
  },
  {
   "cell_type": "code",
   "execution_count": 9,
   "outputs": [],
   "source": [
    "D_MARR = '153281777'"
   ],
   "metadata": {
    "collapsed": false
   }
  },
  {
   "cell_type": "code",
   "execution_count": 10,
   "outputs": [],
   "source": [
    "papers = researcher.get_authored_papers_by(D_MARR)"
   ],
   "metadata": {
    "collapsed": false
   }
  },
  {
   "cell_type": "code",
   "execution_count": 11,
   "outputs": [],
   "source": [
    "with open('author_papers_03.json','w') as jf:\n",
    "        jf.write('[\\n')\n",
    "        paper_json = ((json.dumps(paper.jason_dictionary)) for paper in papers)\n",
    "        jf.write(',\\n'.join(paper_json))\n",
    "        jf.write('\\n]')"
   ],
   "metadata": {
    "collapsed": false
   }
  },
  {
   "cell_type": "code",
   "execution_count": null,
   "outputs": [],
   "source": [],
   "metadata": {
    "collapsed": false
   }
  }
 ],
 "metadata": {
  "kernelspec": {
   "display_name": "Python 3",
   "language": "python",
   "name": "python3"
  },
  "language_info": {
   "codemirror_mode": {
    "name": "ipython",
    "version": 2
   },
   "file_extension": ".py",
   "mimetype": "text/x-python",
   "name": "python",
   "nbconvert_exporter": "python",
   "pygments_lexer": "ipython2",
   "version": "2.7.6"
  }
 },
 "nbformat": 4,
 "nbformat_minor": 0
}
