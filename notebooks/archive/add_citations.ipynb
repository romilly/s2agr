{
 "cells": [
  {
   "cell_type": "code",
   "execution_count": 1,
   "metadata": {
    "collapsed": true,
    "pycharm": {
     "name": "#%%\n"
    }
   },
   "outputs": [],
   "source": [
    "from s2ag.persistence.database_catalogue import DatabaseCatalogue, local_production_connection"
   ]
  },
  {
   "cell_type": "code",
   "execution_count": 2,
   "outputs": [],
   "source": [
    "connection = local_production_connection()\n",
    "catalogue = DatabaseCatalogue(connection)\n"
   ],
   "metadata": {
    "collapsed": false,
    "pycharm": {
     "name": "#%%\n"
    }
   }
  },
  {
   "cell_type": "code",
   "execution_count": 3,
   "outputs": [
    {
     "name": "stdout",
     "output_type": "stream",
     "text": [
      "could not write citation(036fd4bd15746b0eace341dec195c0db021db4ad, None, Neuronal Classification Reveals Organization of Key Communication) - null value in column \"cited_id\" violates not-null constraint\n",
      "DETAIL:  Failing row contains (036fd4bd15746b0eace341dec195c0db021db4ad, null, null).\n",
      "\n",
      "could not write citation(30c1f92c4e10d5be3fdb147fc0903bb5eb596dbf, None, Neuronal Classification Reveals Organization of Key Communication) - null value in column \"cited_id\" violates not-null constraint\n",
      "DETAIL:  Failing row contains (30c1f92c4e10d5be3fdb147fc0903bb5eb596dbf, null, null).\n",
      "\n",
      "could not write citation(4489babe5a698a0257b3f256776b3a302ba3fa25, None, Neuronal Classification Reveals Organization of Key Communication) - null value in column \"cited_id\" violates not-null constraint\n",
      "DETAIL:  Failing row contains (4489babe5a698a0257b3f256776b3a302ba3fa25, null, null).\n",
      "\n",
      "could not write citation(48cc41c7b2fac21d7bbd2988c5c6a2c5f9744852, None, Research data management for bioimaging : the 2021 NFDI 4 BIOIMAGE community survey [ version 2 ; peer review : 2 approved ]) - null value in column \"cited_id\" violates not-null constraint\n",
      "DETAIL:  Failing row contains (48cc41c7b2fac21d7bbd2988c5c6a2c5f9744852, null, null).\n",
      "\n",
      "could not write citation(5eb74585e0c1a33454d0508bea47b3140bfb2019, None, Developing a Novel Place Preference Assay to Compare Drosophila Species Over Time) - null value in column \"cited_id\" violates not-null constraint\n",
      "DETAIL:  Failing row contains (5eb74585e0c1a33454d0508bea47b3140bfb2019, null, null).\n",
      "\n",
      "could not write citation(799493669e4e9eab6593963f2f64faf781d681d7, None, S0140525X20000667jra 1..42) - null value in column \"cited_id\" violates not-null constraint\n",
      "DETAIL:  Failing row contains (799493669e4e9eab6593963f2f64faf781d681d7, null, null).\n",
      "\n",
      "could not write citation(89a1f6ee89891afe5c1761f0d1afbb44ab6c5ad7, None, – Med Pathway Selectively 1 blocks METH-induced Conditioned Place Preference in mice 2 3 4) - null value in column \"cited_id\" violates not-null constraint\n",
      "DETAIL:  Failing row contains (89a1f6ee89891afe5c1761f0d1afbb44ab6c5ad7, null, null).\n",
      "\n",
      "could not write citation(9506c10b85b97bc2e0876b6d244b8f34b1145864, None, Neuronal Classification Reveals Organization of Key Communication) - null value in column \"cited_id\" violates not-null constraint\n",
      "DETAIL:  Failing row contains (9506c10b85b97bc2e0876b6d244b8f34b1145864, null, null).\n",
      "\n",
      "could not write citation(d806b7b8b282e2d21a125a4b2f76c00010bc4f3e, None, A new function for polarization vision: mitigation of visual noise from dynamic illumination) - null value in column \"cited_id\" violates not-null constraint\n",
      "DETAIL:  Failing row contains (d806b7b8b282e2d21a125a4b2f76c00010bc4f3e, null, null).\n",
      "\n",
      "could not write citation(da6ce9df076a7fe81b6119ea05164a6917b59f56, None, Developing a Novel Place Preference Assay to Compare Drosophila Species Over Time) - null value in column \"cited_id\" violates not-null constraint\n",
      "DETAIL:  Failing row contains (da6ce9df076a7fe81b6119ea05164a6917b59f56, null, null).\n",
      "\n",
      "done\n"
     ]
    }
   ],
   "source": [
    "for paper_id in catalogue.paper_ids():\n",
    "    try:\n",
    "        paper = catalogue.read_paper(paper_id)\n",
    "    except Exception as e:\n",
    "        print('cannot read %s - %s' % (paper_id, e))\n",
    "        continue\n",
    "    if paper is None:\n",
    "        print('paper %s is none' % paper_id)\n",
    "        continue\n",
    "    citations = paper.get_citation_entries()\n",
    "    for citation in citations:\n",
    "        try:\n",
    "            catalogue.write_citation(citation)\n",
    "        except Exception as e:\n",
    "            connection.rollback()\n",
    "            print('could not write citation(%s, %s, %s) - %s' % (paper_id, citation.citing_id, citation.title, e))\n",
    "            continue\n",
    "print('done')"
   ],
   "metadata": {
    "collapsed": false,
    "pycharm": {
     "name": "#%%\n"
    }
   }
  },
  {
   "cell_type": "code",
   "execution_count": 4,
   "outputs": [],
   "source": [
    "connection.rollback()"
   ],
   "metadata": {
    "collapsed": false,
    "pycharm": {
     "name": "#%%\n"
    }
   }
  },
  {
   "cell_type": "code",
   "execution_count": 4,
   "outputs": [],
   "source": [],
   "metadata": {
    "collapsed": false,
    "pycharm": {
     "name": "#%%\n"
    }
   }
  },
  {
   "cell_type": "code",
   "execution_count": 4,
   "outputs": [],
   "source": [],
   "metadata": {
    "collapsed": false,
    "pycharm": {
     "name": "#%%\n"
    }
   }
  }
 ],
 "metadata": {
  "kernelspec": {
   "display_name": "Python 3",
   "language": "python",
   "name": "python3"
  },
  "language_info": {
   "codemirror_mode": {
    "name": "ipython",
    "version": 2
   },
   "file_extension": ".py",
   "mimetype": "text/x-python",
   "name": "python",
   "nbconvert_exporter": "python",
   "pygments_lexer": "ipython2",
   "version": "2.7.6"
  }
 },
 "nbformat": 4,
 "nbformat_minor": 0
}