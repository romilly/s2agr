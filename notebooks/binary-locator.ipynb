{
 "cells": [
  {
   "cell_type": "markdown",
   "source": [
    "Given a list of ids,\n",
    "If the list is empty, return.\n",
    "If not, see if they can be all be retrieved. Idf so , return\n",
    "If the list is length one, ty to retrieve it, add to the list of problems if it fails, and return.\n",
    "If not, split the list in half and repeat the process."
   ],
   "metadata": {
    "collapsed": false
   }
  },
  {
   "cell_type": "code",
   "execution_count": 1,
   "outputs": [],
   "source": [
    "import logging\n",
    "\n",
    "from s2agr.builder import Builder\n",
    "from s2agr.monitor import LoggingMonitor\n",
    "from s2agr.persistence.database_catalogue import DatabaseCatalogue, production_connection"
   ],
   "metadata": {
    "collapsed": false
   }
  },
  {
   "cell_type": "code",
   "execution_count": 2,
   "outputs": [],
   "source": [
    "connection = production_connection()\n",
    "catalogue = DatabaseCatalogue(connection)\n",
    "librarian = Builder().with_catalogue(catalogue).with_monitor(LoggingMonitor(log_level=logging.DEBUG)).build()"
   ],
   "metadata": {
    "collapsed": false
   }
  },
  {
   "cell_type": "code",
   "execution_count": 3,
   "outputs": [],
   "source": [
    "IN_ID = 'abd1c342495432171beb7ca8fd9551ef13cbd0ff'"
   ],
   "metadata": {
    "collapsed": false
   }
  },
  {
   "cell_type": "code",
   "execution_count": 4,
   "outputs": [],
   "source": [
    "in_citer_rows = list(catalogue.query('select citing_id from citation where cited_id = (%s) and is_influential', IN_ID))\n",
    "in_citer_ids = [row[0] for row in in_citer_rows]"
   ],
   "metadata": {
    "collapsed": false
   }
  },
  {
   "cell_type": "code",
   "execution_count": 12,
   "outputs": [],
   "source": [
    "def retrieve_all(ids):\n",
    "    librarian.get_papers(*ids)\n",
    "\n",
    "\n",
    "def check_ids(ids, problems:set = None) -> set:\n",
    "    print('trying ', len(ids))\n",
    "    if problems is None:\n",
    "        problems = set()\n",
    "    else:\n",
    "        problems = problems\n",
    "    if len(ids) == 0:\n",
    "        return problems\n",
    "    try:\n",
    "        retrieve_all(ids)\n",
    "        print('got ', len(ids))\n",
    "        return problems\n",
    "    except:\n",
    "        if len(ids) == 1:\n",
    "            problems.add(ids[0])\n",
    "            return problems\n",
    "        split = len(ids) // 2\n",
    "        return check_ids(ids[:split]).union(check_ids(ids[split:]))\n"
   ],
   "metadata": {
    "collapsed": false
   }
  },
  {
   "cell_type": "code",
   "execution_count": 13,
   "outputs": [
    {
     "name": "stdout",
     "output_type": "stream",
     "text": [
      "trying  950\n",
      "{'message': 'Internal Server Error'}\n",
      "trying  475\n",
      "{'message': 'Internal Server Error'}\n",
      "trying  237\n",
      "{'message': 'Internal Server Error'}\n",
      "trying  118\n",
      "got  118\n",
      "trying  119\n",
      "{'message': 'Internal Server Error'}\n",
      "trying  59\n",
      "{'message': 'Internal Server Error'}\n",
      "trying  29\n",
      "got  29\n",
      "trying  30\n",
      "got  30\n",
      "trying  60\n",
      "{'message': 'Internal Server Error'}\n",
      "trying  30\n",
      "{'message': 'Internal Server Error'}\n",
      "trying  15\n",
      "{'message': 'Internal Server Error'}\n",
      "trying  7\n",
      "got  7\n",
      "trying  8\n",
      "{'message': 'Internal Server Error'}\n",
      "trying  4\n",
      "got  4\n",
      "trying  4\n",
      "{'message': 'Internal Server Error'}\n",
      "trying  2\n",
      "{'message': 'Internal Server Error'}\n",
      "trying  1\n",
      "got  1\n",
      "trying  1\n",
      "{'message': 'Internal Server Error'}\n",
      "trying  2\n",
      "got  2\n",
      "trying  15\n",
      "got  15\n",
      "trying  30\n",
      "{'message': 'Internal Server Error'}\n",
      "trying  15\n",
      "got  15\n",
      "trying  15\n",
      "{'message': 'Internal Server Error'}\n",
      "trying  7\n",
      "got  7\n",
      "trying  8\n",
      "{'message': 'Internal Server Error'}\n",
      "trying  4\n",
      "got  4\n",
      "trying  4\n",
      "{'message': 'Internal Server Error'}\n",
      "trying  2\n",
      "got  2\n",
      "trying  2\n",
      "{'message': 'Internal Server Error'}\n",
      "trying  1\n",
      "got  1\n",
      "trying  1\n",
      "{'message': 'Internal Server Error'}\n",
      "trying  238\n",
      "{'message': 'Internal Server Error'}\n",
      "trying  119\n",
      "{'message': 'Internal Server Error'}\n",
      "trying  59\n",
      "{'message': 'Internal Server Error'}\n",
      "trying  29\n",
      "got  29\n",
      "trying  30\n",
      "got  30\n",
      "trying  60\n",
      "{'message': 'Internal Server Error'}\n",
      "trying  30\n",
      "{'message': 'Internal Server Error'}\n",
      "trying  15\n",
      "got  15\n",
      "trying  15\n",
      "{'message': 'Internal Server Error'}\n",
      "trying  7\n",
      "got  7\n",
      "trying  8\n",
      "{'message': 'Internal Server Error'}\n",
      "trying  4\n",
      "got  4\n",
      "trying  4\n",
      "{'message': 'Internal Server Error'}\n",
      "trying  2\n",
      "got  2\n",
      "trying  2\n",
      "{'message': 'Internal Server Error'}\n",
      "trying  1\n",
      "{'message': 'Internal Server Error'}\n",
      "trying  1\n",
      "got  1\n",
      "trying  30\n",
      "got  30\n",
      "trying  119\n",
      "{'message': 'Internal Server Error'}\n",
      "trying  59\n",
      "{'message': 'Internal Server Error'}\n",
      "trying  29\n",
      "got  29\n",
      "trying  30\n",
      "{'message': 'Internal Server Error'}\n",
      "trying  15\n",
      "{'message': 'Internal Server Error'}\n",
      "trying  7\n",
      "got  7\n",
      "trying  8\n",
      "{'message': 'Internal Server Error'}\n",
      "trying  4\n",
      "{'message': 'Internal Server Error'}\n",
      "trying  2\n",
      "got  2\n",
      "trying  2\n",
      "{'message': 'Internal Server Error'}\n",
      "trying  1\n",
      "got  1\n",
      "trying  1\n",
      "{'message': 'Internal Server Error'}\n",
      "trying  4\n",
      "got  4\n",
      "trying  15\n",
      "got  15\n",
      "trying  60\n",
      "{'message': 'Internal Server Error'}\n",
      "trying  30\n",
      "got  30\n",
      "trying  30\n",
      "got  30\n",
      "trying  475\n",
      "{'message': 'Internal Server Error'}\n",
      "trying  237\n",
      "{'message': 'Internal Server Error'}\n",
      "trying  118\n",
      "{'message': 'Internal Server Error'}\n",
      "trying  59\n",
      "{'message': 'Internal Server Error'}\n",
      "trying  29\n",
      "got  29\n",
      "trying  30\n",
      "got  30\n",
      "trying  59\n",
      "{'message': 'Internal Server Error'}\n",
      "trying  29\n",
      "got  29\n",
      "trying  30\n",
      "got  30\n",
      "trying  119\n",
      "{'message': 'Internal Server Error'}\n",
      "trying  59\n",
      "{'message': 'Internal Server Error'}\n",
      "trying  29\n",
      "got  29\n",
      "trying  30\n",
      "got  30\n",
      "trying  60\n",
      "{'message': 'Internal Server Error'}\n",
      "trying  30\n",
      "got  30\n",
      "trying  30\n",
      "got  30\n",
      "trying  238\n",
      "{'message': 'Internal Server Error'}\n",
      "trying  119\n",
      "{'message': 'Internal Server Error'}\n",
      "trying  59\n",
      "{'message': 'Internal Server Error'}\n",
      "trying  29\n",
      "got  29\n",
      "trying  30\n",
      "{'message': 'Internal Server Error'}\n",
      "trying  15\n",
      "got  15\n",
      "trying  15\n",
      "{'message': 'Internal Server Error'}\n",
      "trying  7\n",
      "{'message': 'Internal Server Error'}\n",
      "trying  3\n",
      "{'message': 'Internal Server Error'}\n",
      "trying  1\n",
      "got  1\n",
      "trying  2\n",
      "{'message': 'Internal Server Error'}\n",
      "trying  1\n",
      "got  1\n",
      "trying  1\n",
      "{'message': 'Internal Server Error'}\n",
      "trying  4\n",
      "got  4\n",
      "trying  8\n",
      "{'message': 'Internal Server Error'}\n",
      "trying  4\n",
      "got  4\n",
      "trying  4\n",
      "{'message': 'Internal Server Error'}\n",
      "trying  2\n",
      "{'message': 'Internal Server Error'}\n",
      "trying  1\n",
      "got  1\n",
      "trying  1\n",
      "{'message': 'Internal Server Error'}\n",
      "trying  2\n",
      "got  2\n",
      "trying  60\n",
      "{'message': 'Internal Server Error'}\n",
      "trying  30\n",
      "got  30\n",
      "trying  30\n",
      "got  30\n",
      "trying  119\n",
      "{'message': 'Internal Server Error'}\n",
      "trying  59\n",
      "{'message': 'Internal Server Error'}\n",
      "trying  29\n",
      "got  29\n",
      "trying  30\n",
      "got  30\n",
      "trying  60\n",
      "{'message': 'Internal Server Error'}\n",
      "trying  30\n",
      "got  30\n",
      "trying  30\n",
      "{'message': 'Internal Server Error'}\n",
      "trying  15\n",
      "{'message': 'Internal Server Error'}\n",
      "trying  7\n",
      "got  7\n",
      "trying  8\n",
      "{'message': 'Internal Server Error'}\n",
      "trying  4\n",
      "got  4\n",
      "trying  4\n",
      "{'message': 'Internal Server Error'}\n",
      "trying  2\n",
      "{'message': 'Internal Server Error'}\n",
      "trying  1\n",
      "got  1\n",
      "trying  1\n",
      "{'message': 'Internal Server Error'}\n",
      "trying  2\n",
      "got  2\n",
      "trying  15\n",
      "got  15\n"
     ]
    }
   ],
   "source": [
    "problems = check_ids(in_citer_ids)"
   ],
   "metadata": {
    "collapsed": false
   }
  },
  {
   "cell_type": "code",
   "execution_count": 14,
   "outputs": [
    {
     "data": {
      "text/plain": "{'300f6c733ed8a796e39e4906c40bb84e56dec8b1',\n '6d26a7d1d6de855db5b632766835a9f010f64938',\n '75a5515a70f67764dbec22d40d1c574b50851253',\n 'b18f37c6681e21b9f9f5e1771b1a5b4f58351869',\n 'c0f1ee6c898a0f5a82b7badbbb369346cc070bd8',\n 'd026163813a3586bec36364ac8a0944dcb040359',\n 'f56745ce16beb2f19689e5008eeccd0de88cf430'}"
     },
     "execution_count": 14,
     "metadata": {},
     "output_type": "execute_result"
    }
   ],
   "source": [
    "problems"
   ],
   "metadata": {
    "collapsed": false
   }
  },
  {
   "cell_type": "code",
   "execution_count": 15,
   "outputs": [],
   "source": [
    "for id in problems:\n",
    "    librarian.get_paper(id)"
   ],
   "metadata": {
    "collapsed": false
   }
  },
  {
   "cell_type": "code",
   "execution_count": 16,
   "outputs": [],
   "source": [
    "with open('problem_id_list','a') as f:\n",
    "    for id in problems:\n",
    "        f.write('%s\\n' % id)"
   ],
   "metadata": {
    "collapsed": false
   }
  },
  {
   "cell_type": "code",
   "execution_count": null,
   "outputs": [],
   "source": [],
   "metadata": {
    "collapsed": false
   }
  }
 ],
 "metadata": {
  "kernelspec": {
   "display_name": "Python 3",
   "language": "python",
   "name": "python3"
  },
  "language_info": {
   "codemirror_mode": {
    "name": "ipython",
    "version": 2
   },
   "file_extension": ".py",
   "mimetype": "text/x-python",
   "name": "python",
   "nbconvert_exporter": "python",
   "pygments_lexer": "ipython2",
   "version": "2.7.6"
  }
 },
 "nbformat": 4,
 "nbformat_minor": 0
}
